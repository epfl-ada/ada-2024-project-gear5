{
 "cells": [
  {
   "cell_type": "code",
   "id": "initial_id",
   "metadata": {
    "collapsed": true,
    "ExecuteTime": {
     "end_time": "2024-11-29T16:11:01.348975Z",
     "start_time": "2024-11-29T16:10:51.842375Z"
    }
   },
   "source": [
    "import pandas as pd\n",
    "from pexpect.fdpexpect import fdspawn\n",
    "import warnings\n",
    "\n",
    "warnings.filterwarnings(\"ignore\")\n",
    "from src.models.sentiment_analysis import perform_sentiment_analysis"
   ],
   "outputs": [],
   "execution_count": 1
  },
  {
   "metadata": {
    "ExecuteTime": {
     "end_time": "2024-11-29T16:13:52.793481Z",
     "start_time": "2024-11-29T16:11:01.356316Z"
    }
   },
   "cell_type": "code",
   "source": "df_for_reviews = pd.read_json('./data/movie_dataset_public_final/raw/reviews.json', lines=True)",
   "id": "44d42abf532ac59f",
   "outputs": [],
   "execution_count": 2
  },
  {
   "metadata": {
    "ExecuteTime": {
     "end_time": "2024-11-29T16:13:53.086794Z",
     "start_time": "2024-11-29T16:13:53.066838Z"
    }
   },
   "cell_type": "code",
   "source": "df_for_reviews",
   "id": "48df29177fc7059c",
   "outputs": [
    {
     "data": {
      "text/plain": [
       "         item_id                                                txt\n",
       "0         172063  one-shot record of a belly dancer; \"Carmencita...\n",
       "1          95541  Banging Away..; Thomas Edison and William K.L....\n",
       "2           7065  unbelievable; I cannot understand how anyone c...\n",
       "3           3739  I'm still starry-eyed from it; I saw this last...\n",
       "4           1562  Failed on every Front; Joel Schumacher who did...\n",
       "...          ...                                                ...\n",
       "2624603      520  Aims low, with hilarious results; ROBIN HOOD: ...\n",
       "2624604     8640  Worst epic of 2004; I usually love big epics i...\n",
       "2624605     1377  superb Second Movie; I was glad to see that Ti...\n",
       "2624606    26746  Seagal takes out the garbage; This is hard cor...\n",
       "2624607    34045  Is that I as in Butterfly?; In 2004, a film wa...\n",
       "\n",
       "[2624608 rows x 2 columns]"
      ],
      "text/html": [
       "<div>\n",
       "<style scoped>\n",
       "    .dataframe tbody tr th:only-of-type {\n",
       "        vertical-align: middle;\n",
       "    }\n",
       "\n",
       "    .dataframe tbody tr th {\n",
       "        vertical-align: top;\n",
       "    }\n",
       "\n",
       "    .dataframe thead th {\n",
       "        text-align: right;\n",
       "    }\n",
       "</style>\n",
       "<table border=\"1\" class=\"dataframe\">\n",
       "  <thead>\n",
       "    <tr style=\"text-align: right;\">\n",
       "      <th></th>\n",
       "      <th>item_id</th>\n",
       "      <th>txt</th>\n",
       "    </tr>\n",
       "  </thead>\n",
       "  <tbody>\n",
       "    <tr>\n",
       "      <th>0</th>\n",
       "      <td>172063</td>\n",
       "      <td>one-shot record of a belly dancer; \"Carmencita...</td>\n",
       "    </tr>\n",
       "    <tr>\n",
       "      <th>1</th>\n",
       "      <td>95541</td>\n",
       "      <td>Banging Away..; Thomas Edison and William K.L....</td>\n",
       "    </tr>\n",
       "    <tr>\n",
       "      <th>2</th>\n",
       "      <td>7065</td>\n",
       "      <td>unbelievable; I cannot understand how anyone c...</td>\n",
       "    </tr>\n",
       "    <tr>\n",
       "      <th>3</th>\n",
       "      <td>3739</td>\n",
       "      <td>I'm still starry-eyed from it; I saw this last...</td>\n",
       "    </tr>\n",
       "    <tr>\n",
       "      <th>4</th>\n",
       "      <td>1562</td>\n",
       "      <td>Failed on every Front; Joel Schumacher who did...</td>\n",
       "    </tr>\n",
       "    <tr>\n",
       "      <th>...</th>\n",
       "      <td>...</td>\n",
       "      <td>...</td>\n",
       "    </tr>\n",
       "    <tr>\n",
       "      <th>2624603</th>\n",
       "      <td>520</td>\n",
       "      <td>Aims low, with hilarious results; ROBIN HOOD: ...</td>\n",
       "    </tr>\n",
       "    <tr>\n",
       "      <th>2624604</th>\n",
       "      <td>8640</td>\n",
       "      <td>Worst epic of 2004; I usually love big epics i...</td>\n",
       "    </tr>\n",
       "    <tr>\n",
       "      <th>2624605</th>\n",
       "      <td>1377</td>\n",
       "      <td>superb Second Movie; I was glad to see that Ti...</td>\n",
       "    </tr>\n",
       "    <tr>\n",
       "      <th>2624606</th>\n",
       "      <td>26746</td>\n",
       "      <td>Seagal takes out the garbage; This is hard cor...</td>\n",
       "    </tr>\n",
       "    <tr>\n",
       "      <th>2624607</th>\n",
       "      <td>34045</td>\n",
       "      <td>Is that I as in Butterfly?; In 2004, a film wa...</td>\n",
       "    </tr>\n",
       "  </tbody>\n",
       "</table>\n",
       "<p>2624608 rows × 2 columns</p>\n",
       "</div>"
      ]
     },
     "execution_count": 3,
     "metadata": {},
     "output_type": "execute_result"
    }
   ],
   "execution_count": 3
  },
  {
   "metadata": {
    "ExecuteTime": {
     "end_time": "2024-11-29T16:13:53.488790Z",
     "start_time": "2024-11-29T16:13:53.482890Z"
    }
   },
   "cell_type": "code",
   "source": "df_for_reviews.dtypes",
   "id": "9cc4f8c39d95d9f2",
   "outputs": [
    {
     "data": {
      "text/plain": [
       "item_id     int64\n",
       "txt        object\n",
       "dtype: object"
      ]
     },
     "execution_count": 4,
     "metadata": {},
     "output_type": "execute_result"
    }
   ],
   "execution_count": 4
  },
  {
   "metadata": {
    "ExecuteTime": {
     "end_time": "2024-11-29T16:13:53.838154Z",
     "start_time": "2024-11-29T16:13:53.833613Z"
    }
   },
   "cell_type": "code",
   "source": "df_for_reviews.columns",
   "id": "28f768a86e434571",
   "outputs": [
    {
     "data": {
      "text/plain": [
       "Index(['item_id', 'txt'], dtype='object')"
      ]
     },
     "execution_count": 5,
     "metadata": {},
     "output_type": "execute_result"
    }
   ],
   "execution_count": 5
  },
  {
   "metadata": {
    "ExecuteTime": {
     "end_time": "2024-11-29T16:13:54.122766Z",
     "start_time": "2024-11-29T16:13:54.113590Z"
    }
   },
   "cell_type": "code",
   "source": [
    "print(df_for_reviews.shape)\n",
    "df_for_reviews"
   ],
   "id": "c33adefd6e1f43d1",
   "outputs": [
    {
     "name": "stdout",
     "output_type": "stream",
     "text": [
      "(2624608, 2)\n"
     ]
    },
    {
     "data": {
      "text/plain": [
       "         item_id                                                txt\n",
       "0         172063  one-shot record of a belly dancer; \"Carmencita...\n",
       "1          95541  Banging Away..; Thomas Edison and William K.L....\n",
       "2           7065  unbelievable; I cannot understand how anyone c...\n",
       "3           3739  I'm still starry-eyed from it; I saw this last...\n",
       "4           1562  Failed on every Front; Joel Schumacher who did...\n",
       "...          ...                                                ...\n",
       "2624603      520  Aims low, with hilarious results; ROBIN HOOD: ...\n",
       "2624604     8640  Worst epic of 2004; I usually love big epics i...\n",
       "2624605     1377  superb Second Movie; I was glad to see that Ti...\n",
       "2624606    26746  Seagal takes out the garbage; This is hard cor...\n",
       "2624607    34045  Is that I as in Butterfly?; In 2004, a film wa...\n",
       "\n",
       "[2624608 rows x 2 columns]"
      ],
      "text/html": [
       "<div>\n",
       "<style scoped>\n",
       "    .dataframe tbody tr th:only-of-type {\n",
       "        vertical-align: middle;\n",
       "    }\n",
       "\n",
       "    .dataframe tbody tr th {\n",
       "        vertical-align: top;\n",
       "    }\n",
       "\n",
       "    .dataframe thead th {\n",
       "        text-align: right;\n",
       "    }\n",
       "</style>\n",
       "<table border=\"1\" class=\"dataframe\">\n",
       "  <thead>\n",
       "    <tr style=\"text-align: right;\">\n",
       "      <th></th>\n",
       "      <th>item_id</th>\n",
       "      <th>txt</th>\n",
       "    </tr>\n",
       "  </thead>\n",
       "  <tbody>\n",
       "    <tr>\n",
       "      <th>0</th>\n",
       "      <td>172063</td>\n",
       "      <td>one-shot record of a belly dancer; \"Carmencita...</td>\n",
       "    </tr>\n",
       "    <tr>\n",
       "      <th>1</th>\n",
       "      <td>95541</td>\n",
       "      <td>Banging Away..; Thomas Edison and William K.L....</td>\n",
       "    </tr>\n",
       "    <tr>\n",
       "      <th>2</th>\n",
       "      <td>7065</td>\n",
       "      <td>unbelievable; I cannot understand how anyone c...</td>\n",
       "    </tr>\n",
       "    <tr>\n",
       "      <th>3</th>\n",
       "      <td>3739</td>\n",
       "      <td>I'm still starry-eyed from it; I saw this last...</td>\n",
       "    </tr>\n",
       "    <tr>\n",
       "      <th>4</th>\n",
       "      <td>1562</td>\n",
       "      <td>Failed on every Front; Joel Schumacher who did...</td>\n",
       "    </tr>\n",
       "    <tr>\n",
       "      <th>...</th>\n",
       "      <td>...</td>\n",
       "      <td>...</td>\n",
       "    </tr>\n",
       "    <tr>\n",
       "      <th>2624603</th>\n",
       "      <td>520</td>\n",
       "      <td>Aims low, with hilarious results; ROBIN HOOD: ...</td>\n",
       "    </tr>\n",
       "    <tr>\n",
       "      <th>2624604</th>\n",
       "      <td>8640</td>\n",
       "      <td>Worst epic of 2004; I usually love big epics i...</td>\n",
       "    </tr>\n",
       "    <tr>\n",
       "      <th>2624605</th>\n",
       "      <td>1377</td>\n",
       "      <td>superb Second Movie; I was glad to see that Ti...</td>\n",
       "    </tr>\n",
       "    <tr>\n",
       "      <th>2624606</th>\n",
       "      <td>26746</td>\n",
       "      <td>Seagal takes out the garbage; This is hard cor...</td>\n",
       "    </tr>\n",
       "    <tr>\n",
       "      <th>2624607</th>\n",
       "      <td>34045</td>\n",
       "      <td>Is that I as in Butterfly?; In 2004, a film wa...</td>\n",
       "    </tr>\n",
       "  </tbody>\n",
       "</table>\n",
       "<p>2624608 rows × 2 columns</p>\n",
       "</div>"
      ]
     },
     "execution_count": 6,
     "metadata": {},
     "output_type": "execute_result"
    }
   ],
   "execution_count": 6
  },
  {
   "metadata": {
    "ExecuteTime": {
     "end_time": "2024-11-29T16:13:54.378479Z",
     "start_time": "2024-11-29T16:13:54.370443Z"
    }
   },
   "cell_type": "code",
   "source": [
    "df_for_test = df_for_reviews.iloc[0:100]\n",
    "print(df_for_test.shape)\n",
    "df_for_test"
   ],
   "id": "c9142352bee5d54a",
   "outputs": [
    {
     "name": "stdout",
     "output_type": "stream",
     "text": [
      "(100, 2)\n"
     ]
    },
    {
     "data": {
      "text/plain": [
       "    item_id                                                txt\n",
       "0    172063  one-shot record of a belly dancer; \"Carmencita...\n",
       "1     95541  Banging Away..; Thomas Edison and William K.L....\n",
       "2      7065  unbelievable; I cannot understand how anyone c...\n",
       "3      3739  I'm still starry-eyed from it; I saw this last...\n",
       "4      1562  Failed on every Front; Joel Schumacher who did...\n",
       "..      ...                                                ...\n",
       "95   172961  Dull and Moronic; In the untouched primordial ...\n",
       "96     8043  A Different Kind of Horror Film; The Leary fam...\n",
       "97      543  This may be Mike Myers funniest movie EVER!; F...\n",
       "98     6746  Best when we're mired in rednecks; Fly Creek i...\n",
       "99   148408  Larry Buchanan needs a budget, an editor and s...\n",
       "\n",
       "[100 rows x 2 columns]"
      ],
      "text/html": [
       "<div>\n",
       "<style scoped>\n",
       "    .dataframe tbody tr th:only-of-type {\n",
       "        vertical-align: middle;\n",
       "    }\n",
       "\n",
       "    .dataframe tbody tr th {\n",
       "        vertical-align: top;\n",
       "    }\n",
       "\n",
       "    .dataframe thead th {\n",
       "        text-align: right;\n",
       "    }\n",
       "</style>\n",
       "<table border=\"1\" class=\"dataframe\">\n",
       "  <thead>\n",
       "    <tr style=\"text-align: right;\">\n",
       "      <th></th>\n",
       "      <th>item_id</th>\n",
       "      <th>txt</th>\n",
       "    </tr>\n",
       "  </thead>\n",
       "  <tbody>\n",
       "    <tr>\n",
       "      <th>0</th>\n",
       "      <td>172063</td>\n",
       "      <td>one-shot record of a belly dancer; \"Carmencita...</td>\n",
       "    </tr>\n",
       "    <tr>\n",
       "      <th>1</th>\n",
       "      <td>95541</td>\n",
       "      <td>Banging Away..; Thomas Edison and William K.L....</td>\n",
       "    </tr>\n",
       "    <tr>\n",
       "      <th>2</th>\n",
       "      <td>7065</td>\n",
       "      <td>unbelievable; I cannot understand how anyone c...</td>\n",
       "    </tr>\n",
       "    <tr>\n",
       "      <th>3</th>\n",
       "      <td>3739</td>\n",
       "      <td>I'm still starry-eyed from it; I saw this last...</td>\n",
       "    </tr>\n",
       "    <tr>\n",
       "      <th>4</th>\n",
       "      <td>1562</td>\n",
       "      <td>Failed on every Front; Joel Schumacher who did...</td>\n",
       "    </tr>\n",
       "    <tr>\n",
       "      <th>...</th>\n",
       "      <td>...</td>\n",
       "      <td>...</td>\n",
       "    </tr>\n",
       "    <tr>\n",
       "      <th>95</th>\n",
       "      <td>172961</td>\n",
       "      <td>Dull and Moronic; In the untouched primordial ...</td>\n",
       "    </tr>\n",
       "    <tr>\n",
       "      <th>96</th>\n",
       "      <td>8043</td>\n",
       "      <td>A Different Kind of Horror Film; The Leary fam...</td>\n",
       "    </tr>\n",
       "    <tr>\n",
       "      <th>97</th>\n",
       "      <td>543</td>\n",
       "      <td>This may be Mike Myers funniest movie EVER!; F...</td>\n",
       "    </tr>\n",
       "    <tr>\n",
       "      <th>98</th>\n",
       "      <td>6746</td>\n",
       "      <td>Best when we're mired in rednecks; Fly Creek i...</td>\n",
       "    </tr>\n",
       "    <tr>\n",
       "      <th>99</th>\n",
       "      <td>148408</td>\n",
       "      <td>Larry Buchanan needs a budget, an editor and s...</td>\n",
       "    </tr>\n",
       "  </tbody>\n",
       "</table>\n",
       "<p>100 rows × 2 columns</p>\n",
       "</div>"
      ]
     },
     "execution_count": 7,
     "metadata": {},
     "output_type": "execute_result"
    }
   ],
   "execution_count": 7
  },
  {
   "metadata": {
    "ExecuteTime": {
     "end_time": "2024-11-29T16:13:54.669380Z",
     "start_time": "2024-11-29T16:13:54.666091Z"
    }
   },
   "cell_type": "code",
   "source": [
    "#df_for_test['txt'] = [\n",
    "#    df_for_test['txt'].iloc[i][:500] if isinstance(df_for_test['txt'].iloc[i], str) else df_for_test['txt'].iloc[i]\n",
    "#    for i in range(df_for_test.shape[0])\n",
    "#]"
   ],
   "id": "9fdb2fa8f445aa66",
   "outputs": [],
   "execution_count": 8
  },
  {
   "metadata": {
    "ExecuteTime": {
     "end_time": "2024-11-29T16:14:17.681849Z",
     "start_time": "2024-11-29T16:13:54.904677Z"
    }
   },
   "cell_type": "code",
   "source": "df_with_sentiment = perform_sentiment_analysis(df_for_test, \"txt\")",
   "id": "3b4410b959b7f50e",
   "outputs": [],
   "execution_count": 9
  },
  {
   "metadata": {
    "ExecuteTime": {
     "end_time": "2024-11-29T16:14:17.783939Z",
     "start_time": "2024-11-29T16:14:17.768388Z"
    }
   },
   "cell_type": "code",
   "source": "df_with_sentiment",
   "id": "ce5179985706a29f",
   "outputs": [
    {
     "data": {
      "text/plain": [
       "    item_id                                                txt sentiment  \\\n",
       "0    172063  one-shot record of a belly dancer; \"Carmencita...   LABEL_1   \n",
       "1     95541  Banging Away..; Thomas Edison and William K.L....   LABEL_2   \n",
       "2      7065  unbelievable; I cannot understand how anyone c...   LABEL_0   \n",
       "3      3739  I'm still starry-eyed from it; I saw this last...   LABEL_2   \n",
       "4      1562  Failed on every Front; Joel Schumacher who did...   LABEL_0   \n",
       "..      ...                                                ...       ...   \n",
       "95   172961  Dull and Moronic; In the untouched primordial ...   LABEL_0   \n",
       "96     8043  A Different Kind of Horror Film; The Leary fam...   LABEL_1   \n",
       "97      543  This may be Mike Myers funniest movie EVER!; F...   LABEL_2   \n",
       "98     6746  Best when we're mired in rednecks; Fly Creek i...   LABEL_0   \n",
       "99   148408  Larry Buchanan needs a budget, an editor and s...   LABEL_1   \n",
       "\n",
       "    sentiment_score  \n",
       "0          0.696888  \n",
       "1          0.525149  \n",
       "2          0.911738  \n",
       "3          0.984118  \n",
       "4          0.820955  \n",
       "..              ...  \n",
       "95         0.630481  \n",
       "96         0.684798  \n",
       "97         0.970499  \n",
       "98         0.515122  \n",
       "99         0.589674  \n",
       "\n",
       "[100 rows x 4 columns]"
      ],
      "text/html": [
       "<div>\n",
       "<style scoped>\n",
       "    .dataframe tbody tr th:only-of-type {\n",
       "        vertical-align: middle;\n",
       "    }\n",
       "\n",
       "    .dataframe tbody tr th {\n",
       "        vertical-align: top;\n",
       "    }\n",
       "\n",
       "    .dataframe thead th {\n",
       "        text-align: right;\n",
       "    }\n",
       "</style>\n",
       "<table border=\"1\" class=\"dataframe\">\n",
       "  <thead>\n",
       "    <tr style=\"text-align: right;\">\n",
       "      <th></th>\n",
       "      <th>item_id</th>\n",
       "      <th>txt</th>\n",
       "      <th>sentiment</th>\n",
       "      <th>sentiment_score</th>\n",
       "    </tr>\n",
       "  </thead>\n",
       "  <tbody>\n",
       "    <tr>\n",
       "      <th>0</th>\n",
       "      <td>172063</td>\n",
       "      <td>one-shot record of a belly dancer; \"Carmencita...</td>\n",
       "      <td>LABEL_1</td>\n",
       "      <td>0.696888</td>\n",
       "    </tr>\n",
       "    <tr>\n",
       "      <th>1</th>\n",
       "      <td>95541</td>\n",
       "      <td>Banging Away..; Thomas Edison and William K.L....</td>\n",
       "      <td>LABEL_2</td>\n",
       "      <td>0.525149</td>\n",
       "    </tr>\n",
       "    <tr>\n",
       "      <th>2</th>\n",
       "      <td>7065</td>\n",
       "      <td>unbelievable; I cannot understand how anyone c...</td>\n",
       "      <td>LABEL_0</td>\n",
       "      <td>0.911738</td>\n",
       "    </tr>\n",
       "    <tr>\n",
       "      <th>3</th>\n",
       "      <td>3739</td>\n",
       "      <td>I'm still starry-eyed from it; I saw this last...</td>\n",
       "      <td>LABEL_2</td>\n",
       "      <td>0.984118</td>\n",
       "    </tr>\n",
       "    <tr>\n",
       "      <th>4</th>\n",
       "      <td>1562</td>\n",
       "      <td>Failed on every Front; Joel Schumacher who did...</td>\n",
       "      <td>LABEL_0</td>\n",
       "      <td>0.820955</td>\n",
       "    </tr>\n",
       "    <tr>\n",
       "      <th>...</th>\n",
       "      <td>...</td>\n",
       "      <td>...</td>\n",
       "      <td>...</td>\n",
       "      <td>...</td>\n",
       "    </tr>\n",
       "    <tr>\n",
       "      <th>95</th>\n",
       "      <td>172961</td>\n",
       "      <td>Dull and Moronic; In the untouched primordial ...</td>\n",
       "      <td>LABEL_0</td>\n",
       "      <td>0.630481</td>\n",
       "    </tr>\n",
       "    <tr>\n",
       "      <th>96</th>\n",
       "      <td>8043</td>\n",
       "      <td>A Different Kind of Horror Film; The Leary fam...</td>\n",
       "      <td>LABEL_1</td>\n",
       "      <td>0.684798</td>\n",
       "    </tr>\n",
       "    <tr>\n",
       "      <th>97</th>\n",
       "      <td>543</td>\n",
       "      <td>This may be Mike Myers funniest movie EVER!; F...</td>\n",
       "      <td>LABEL_2</td>\n",
       "      <td>0.970499</td>\n",
       "    </tr>\n",
       "    <tr>\n",
       "      <th>98</th>\n",
       "      <td>6746</td>\n",
       "      <td>Best when we're mired in rednecks; Fly Creek i...</td>\n",
       "      <td>LABEL_0</td>\n",
       "      <td>0.515122</td>\n",
       "    </tr>\n",
       "    <tr>\n",
       "      <th>99</th>\n",
       "      <td>148408</td>\n",
       "      <td>Larry Buchanan needs a budget, an editor and s...</td>\n",
       "      <td>LABEL_1</td>\n",
       "      <td>0.589674</td>\n",
       "    </tr>\n",
       "  </tbody>\n",
       "</table>\n",
       "<p>100 rows × 4 columns</p>\n",
       "</div>"
      ]
     },
     "execution_count": 10,
     "metadata": {},
     "output_type": "execute_result"
    }
   ],
   "execution_count": 10
  },
  {
   "metadata": {
    "ExecuteTime": {
     "end_time": "2024-11-29T16:14:17.909978Z",
     "start_time": "2024-11-29T16:14:17.905014Z"
    }
   },
   "cell_type": "code",
   "source": "df_with_sentiment[\"txt\"].iloc[1]",
   "id": "3651af6771437468",
   "outputs": [
    {
     "data": {
      "text/plain": [
       "'Banging Away..; Thomas Edison and William K.L. Dickson\\'s \"Blacksmith Scene,\" was the first film shown publicly in 1893. This short is a brief look at 3 workers as they go about their daily ritual. Great piece of work for its time. In the early days of cinema, directors typically recorded everyday events such as the arrival of ships or workers leaving a factory. These short films were called \"actualities.\" Later, with the advent of better equipment (which could record for longer), directors began'"
      ]
     },
     "execution_count": 11,
     "metadata": {},
     "output_type": "execute_result"
    }
   ],
   "execution_count": 11
  }
 ],
 "metadata": {
  "kernelspec": {
   "display_name": "Python 3",
   "language": "python",
   "name": "python3"
  },
  "language_info": {
   "codemirror_mode": {
    "name": "ipython",
    "version": 2
   },
   "file_extension": ".py",
   "mimetype": "text/x-python",
   "name": "python",
   "nbconvert_exporter": "python",
   "pygments_lexer": "ipython2",
   "version": "2.7.6"
  }
 },
 "nbformat": 4,
 "nbformat_minor": 5
}
