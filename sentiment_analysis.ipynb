{
 "cells": [
  {
   "cell_type": "code",
   "id": "initial_id",
   "metadata": {
    "collapsed": true,
    "ExecuteTime": {
     "end_time": "2024-12-01T10:43:04.653094Z",
     "start_time": "2024-12-01T10:42:54.768866Z"
    }
   },
   "source": [
    "import pandas as pd\n",
    "#import warnings\n",
    "\n",
    "#warnings.filterwarnings(\"ignore\")\n",
    "from src.models.sentiment_analysis import sentiment_analysis"
   ],
   "outputs": [],
   "execution_count": 2
  },
  {
   "metadata": {
    "ExecuteTime": {
     "end_time": "2024-12-01T10:43:04.665462Z",
     "start_time": "2024-12-01T10:43:04.662276Z"
    }
   },
   "cell_type": "code",
   "source": "#df_for_reviews = pd.read_json('./data/movie_dataset_public_final/raw/reviews.json', lines=True)",
   "id": "44d42abf532ac59f",
   "outputs": [],
   "execution_count": 3
  },
  {
   "metadata": {
    "ExecuteTime": {
     "end_time": "2024-12-01T10:43:16.179512Z",
     "start_time": "2024-12-01T10:43:04.678528Z"
    }
   },
   "cell_type": "code",
   "source": "df_for_reviews = pd.read_pickle(\"./data/reviews.pkl\")",
   "id": "63068e03d290266d",
   "outputs": [],
   "execution_count": 4
  },
  {
   "metadata": {
    "ExecuteTime": {
     "end_time": "2024-12-01T10:43:16.321789Z",
     "start_time": "2024-12-01T10:43:16.204307Z"
    }
   },
   "cell_type": "code",
   "source": [
    "df_for_reviews = df_for_reviews.rename(columns={'txt': 'review'})\n",
    "df_for_reviews"
   ],
   "id": "48df29177fc7059c",
   "outputs": [
    {
     "data": {
      "text/plain": [
       "         item_id                                             review\n",
       "0         172063  one-shot record of a belly dancer; \"Carmencita...\n",
       "1          95541  Banging Away..; Thomas Edison and William K.L....\n",
       "2           7065  unbelievable; I cannot understand how anyone c...\n",
       "3           3739  I'm still starry-eyed from it; I saw this last...\n",
       "4           1562  Failed on every Front; Joel Schumacher who did...\n",
       "...          ...                                                ...\n",
       "2624603      520  Aims low, with hilarious results; ROBIN HOOD: ...\n",
       "2624604     8640  Worst epic of 2004; I usually love big epics i...\n",
       "2624605     1377  superb Second Movie; I was glad to see that Ti...\n",
       "2624606    26746  Seagal takes out the garbage; This is hard cor...\n",
       "2624607    34045  Is that I as in Butterfly?; In 2004, a film wa...\n",
       "\n",
       "[2624608 rows x 2 columns]"
      ],
      "text/html": [
       "<div>\n",
       "<style scoped>\n",
       "    .dataframe tbody tr th:only-of-type {\n",
       "        vertical-align: middle;\n",
       "    }\n",
       "\n",
       "    .dataframe tbody tr th {\n",
       "        vertical-align: top;\n",
       "    }\n",
       "\n",
       "    .dataframe thead th {\n",
       "        text-align: right;\n",
       "    }\n",
       "</style>\n",
       "<table border=\"1\" class=\"dataframe\">\n",
       "  <thead>\n",
       "    <tr style=\"text-align: right;\">\n",
       "      <th></th>\n",
       "      <th>item_id</th>\n",
       "      <th>review</th>\n",
       "    </tr>\n",
       "  </thead>\n",
       "  <tbody>\n",
       "    <tr>\n",
       "      <th>0</th>\n",
       "      <td>172063</td>\n",
       "      <td>one-shot record of a belly dancer; \"Carmencita...</td>\n",
       "    </tr>\n",
       "    <tr>\n",
       "      <th>1</th>\n",
       "      <td>95541</td>\n",
       "      <td>Banging Away..; Thomas Edison and William K.L....</td>\n",
       "    </tr>\n",
       "    <tr>\n",
       "      <th>2</th>\n",
       "      <td>7065</td>\n",
       "      <td>unbelievable; I cannot understand how anyone c...</td>\n",
       "    </tr>\n",
       "    <tr>\n",
       "      <th>3</th>\n",
       "      <td>3739</td>\n",
       "      <td>I'm still starry-eyed from it; I saw this last...</td>\n",
       "    </tr>\n",
       "    <tr>\n",
       "      <th>4</th>\n",
       "      <td>1562</td>\n",
       "      <td>Failed on every Front; Joel Schumacher who did...</td>\n",
       "    </tr>\n",
       "    <tr>\n",
       "      <th>...</th>\n",
       "      <td>...</td>\n",
       "      <td>...</td>\n",
       "    </tr>\n",
       "    <tr>\n",
       "      <th>2624603</th>\n",
       "      <td>520</td>\n",
       "      <td>Aims low, with hilarious results; ROBIN HOOD: ...</td>\n",
       "    </tr>\n",
       "    <tr>\n",
       "      <th>2624604</th>\n",
       "      <td>8640</td>\n",
       "      <td>Worst epic of 2004; I usually love big epics i...</td>\n",
       "    </tr>\n",
       "    <tr>\n",
       "      <th>2624605</th>\n",
       "      <td>1377</td>\n",
       "      <td>superb Second Movie; I was glad to see that Ti...</td>\n",
       "    </tr>\n",
       "    <tr>\n",
       "      <th>2624606</th>\n",
       "      <td>26746</td>\n",
       "      <td>Seagal takes out the garbage; This is hard cor...</td>\n",
       "    </tr>\n",
       "    <tr>\n",
       "      <th>2624607</th>\n",
       "      <td>34045</td>\n",
       "      <td>Is that I as in Butterfly?; In 2004, a film wa...</td>\n",
       "    </tr>\n",
       "  </tbody>\n",
       "</table>\n",
       "<p>2624608 rows × 2 columns</p>\n",
       "</div>"
      ]
     },
     "execution_count": 5,
     "metadata": {},
     "output_type": "execute_result"
    }
   ],
   "execution_count": 5
  },
  {
   "metadata": {
    "ExecuteTime": {
     "end_time": "2024-12-01T10:43:32.218182Z",
     "start_time": "2024-12-01T10:43:32.206747Z"
    }
   },
   "cell_type": "code",
   "source": "df_for_reviews.dtypes",
   "id": "9cc4f8c39d95d9f2",
   "outputs": [
    {
     "data": {
      "text/plain": [
       "item_id     int64\n",
       "review     object\n",
       "dtype: object"
      ]
     },
     "execution_count": 6,
     "metadata": {},
     "output_type": "execute_result"
    }
   ],
   "execution_count": 6
  },
  {
   "metadata": {
    "ExecuteTime": {
     "end_time": "2024-12-01T10:43:38.864666Z",
     "start_time": "2024-12-01T10:43:38.852963Z"
    }
   },
   "cell_type": "code",
   "source": [
    "df_for_test = df_for_reviews.iloc[0:1000]\n",
    "print(df_for_test.shape)\n",
    "df_for_test.head(10)"
   ],
   "id": "c9142352bee5d54a",
   "outputs": [
    {
     "name": "stdout",
     "output_type": "stream",
     "text": [
      "(1000, 2)\n"
     ]
    },
    {
     "data": {
      "text/plain": [
       "   item_id                                             review\n",
       "0   172063  one-shot record of a belly dancer; \"Carmencita...\n",
       "1    95541  Banging Away..; Thomas Edison and William K.L....\n",
       "2     7065  unbelievable; I cannot understand how anyone c...\n",
       "3     3739  I'm still starry-eyed from it; I saw this last...\n",
       "4     1562  Failed on every Front; Joel Schumacher who did...\n",
       "5     8977  Poor Casting, Poor script Poor direction.; I h...\n",
       "6     2174  An Accomplished Tim Burton Movie; A Great Idea...\n",
       "7     8947  Very good; I saw \"The Grudge\" yesterday, and w...\n",
       "8   143027  This movie was stupid.; This movie was totally...\n",
       "9   143027  . . . is a great movie.; Amazing! Finally Disn..."
      ],
      "text/html": [
       "<div>\n",
       "<style scoped>\n",
       "    .dataframe tbody tr th:only-of-type {\n",
       "        vertical-align: middle;\n",
       "    }\n",
       "\n",
       "    .dataframe tbody tr th {\n",
       "        vertical-align: top;\n",
       "    }\n",
       "\n",
       "    .dataframe thead th {\n",
       "        text-align: right;\n",
       "    }\n",
       "</style>\n",
       "<table border=\"1\" class=\"dataframe\">\n",
       "  <thead>\n",
       "    <tr style=\"text-align: right;\">\n",
       "      <th></th>\n",
       "      <th>item_id</th>\n",
       "      <th>review</th>\n",
       "    </tr>\n",
       "  </thead>\n",
       "  <tbody>\n",
       "    <tr>\n",
       "      <th>0</th>\n",
       "      <td>172063</td>\n",
       "      <td>one-shot record of a belly dancer; \"Carmencita...</td>\n",
       "    </tr>\n",
       "    <tr>\n",
       "      <th>1</th>\n",
       "      <td>95541</td>\n",
       "      <td>Banging Away..; Thomas Edison and William K.L....</td>\n",
       "    </tr>\n",
       "    <tr>\n",
       "      <th>2</th>\n",
       "      <td>7065</td>\n",
       "      <td>unbelievable; I cannot understand how anyone c...</td>\n",
       "    </tr>\n",
       "    <tr>\n",
       "      <th>3</th>\n",
       "      <td>3739</td>\n",
       "      <td>I'm still starry-eyed from it; I saw this last...</td>\n",
       "    </tr>\n",
       "    <tr>\n",
       "      <th>4</th>\n",
       "      <td>1562</td>\n",
       "      <td>Failed on every Front; Joel Schumacher who did...</td>\n",
       "    </tr>\n",
       "    <tr>\n",
       "      <th>5</th>\n",
       "      <td>8977</td>\n",
       "      <td>Poor Casting, Poor script Poor direction.; I h...</td>\n",
       "    </tr>\n",
       "    <tr>\n",
       "      <th>6</th>\n",
       "      <td>2174</td>\n",
       "      <td>An Accomplished Tim Burton Movie; A Great Idea...</td>\n",
       "    </tr>\n",
       "    <tr>\n",
       "      <th>7</th>\n",
       "      <td>8947</td>\n",
       "      <td>Very good; I saw \"The Grudge\" yesterday, and w...</td>\n",
       "    </tr>\n",
       "    <tr>\n",
       "      <th>8</th>\n",
       "      <td>143027</td>\n",
       "      <td>This movie was stupid.; This movie was totally...</td>\n",
       "    </tr>\n",
       "    <tr>\n",
       "      <th>9</th>\n",
       "      <td>143027</td>\n",
       "      <td>. . . is a great movie.; Amazing! Finally Disn...</td>\n",
       "    </tr>\n",
       "  </tbody>\n",
       "</table>\n",
       "</div>"
      ]
     },
     "execution_count": 7,
     "metadata": {},
     "output_type": "execute_result"
    }
   ],
   "execution_count": 7
  },
  {
   "metadata": {
    "ExecuteTime": {
     "end_time": "2024-12-01T10:45:23.090456Z",
     "start_time": "2024-12-01T10:44:08.812470Z"
    }
   },
   "cell_type": "code",
   "source": [
    "output_file = \"./data/sentiment_analysis.csv\"\n",
    "df_for_test_copy = df_for_test.copy()\n",
    "df_with_sentiment = sentiment_analysis(df_for_test_copy, \"review\", \"item_id\", output_file)"
   ],
   "id": "3b4410b959b7f50e",
   "outputs": [
    {
     "name": "stdout",
     "output_type": "stream",
     "text": [
      "distilbert-base-uncased-finetuned-sst-2-english\n"
     ]
    },
    {
     "name": "stderr",
     "output_type": "stream",
     "text": [
      "100%|██████████| 1000/1000 [01:13<00:00, 13.67it/s]\n"
     ]
    }
   ],
   "execution_count": 10
  },
  {
   "metadata": {
    "ExecuteTime": {
     "end_time": "2024-12-01T10:45:23.117491Z",
     "start_time": "2024-12-01T10:45:23.102214Z"
    }
   },
   "cell_type": "code",
   "source": "df_with_sentiment",
   "id": "1d1c5cad1e6cb535",
   "outputs": [
    {
     "data": {
      "text/plain": [
       "                                    sentiment_analysis  item_id\n",
       "0    {'label': 'NEGATIVE', 'score': 0.9942500591278...   172063\n",
       "1    {'label': 'POSITIVE', 'score': 0.9948009252548...    95541\n",
       "2    {'label': 'NEGATIVE', 'score': 0.9970976114273...     7065\n",
       "3    {'label': 'POSITIVE', 'score': 0.9997346997261...     3739\n",
       "4    {'label': 'NEGATIVE', 'score': 0.9997946619987...     1562\n",
       "..                                                 ...      ...\n",
       "995  {'label': 'POSITIVE', 'score': 0.9998169541358...    27699\n",
       "996  {'label': 'POSITIVE', 'score': 0.9979324340820...     8784\n",
       "997  {'label': 'POSITIVE', 'score': 0.999785840511322}    31225\n",
       "998  {'label': 'NEGATIVE', 'score': 0.5068520307540...     4932\n",
       "999  {'label': 'POSITIVE', 'score': 0.9989112615585...     6140\n",
       "\n",
       "[1000 rows x 2 columns]"
      ],
      "text/html": [
       "<div>\n",
       "<style scoped>\n",
       "    .dataframe tbody tr th:only-of-type {\n",
       "        vertical-align: middle;\n",
       "    }\n",
       "\n",
       "    .dataframe tbody tr th {\n",
       "        vertical-align: top;\n",
       "    }\n",
       "\n",
       "    .dataframe thead th {\n",
       "        text-align: right;\n",
       "    }\n",
       "</style>\n",
       "<table border=\"1\" class=\"dataframe\">\n",
       "  <thead>\n",
       "    <tr style=\"text-align: right;\">\n",
       "      <th></th>\n",
       "      <th>sentiment_analysis</th>\n",
       "      <th>item_id</th>\n",
       "    </tr>\n",
       "  </thead>\n",
       "  <tbody>\n",
       "    <tr>\n",
       "      <th>0</th>\n",
       "      <td>{'label': 'NEGATIVE', 'score': 0.9942500591278...</td>\n",
       "      <td>172063</td>\n",
       "    </tr>\n",
       "    <tr>\n",
       "      <th>1</th>\n",
       "      <td>{'label': 'POSITIVE', 'score': 0.9948009252548...</td>\n",
       "      <td>95541</td>\n",
       "    </tr>\n",
       "    <tr>\n",
       "      <th>2</th>\n",
       "      <td>{'label': 'NEGATIVE', 'score': 0.9970976114273...</td>\n",
       "      <td>7065</td>\n",
       "    </tr>\n",
       "    <tr>\n",
       "      <th>3</th>\n",
       "      <td>{'label': 'POSITIVE', 'score': 0.9997346997261...</td>\n",
       "      <td>3739</td>\n",
       "    </tr>\n",
       "    <tr>\n",
       "      <th>4</th>\n",
       "      <td>{'label': 'NEGATIVE', 'score': 0.9997946619987...</td>\n",
       "      <td>1562</td>\n",
       "    </tr>\n",
       "    <tr>\n",
       "      <th>...</th>\n",
       "      <td>...</td>\n",
       "      <td>...</td>\n",
       "    </tr>\n",
       "    <tr>\n",
       "      <th>995</th>\n",
       "      <td>{'label': 'POSITIVE', 'score': 0.9998169541358...</td>\n",
       "      <td>27699</td>\n",
       "    </tr>\n",
       "    <tr>\n",
       "      <th>996</th>\n",
       "      <td>{'label': 'POSITIVE', 'score': 0.9979324340820...</td>\n",
       "      <td>8784</td>\n",
       "    </tr>\n",
       "    <tr>\n",
       "      <th>997</th>\n",
       "      <td>{'label': 'POSITIVE', 'score': 0.999785840511322}</td>\n",
       "      <td>31225</td>\n",
       "    </tr>\n",
       "    <tr>\n",
       "      <th>998</th>\n",
       "      <td>{'label': 'NEGATIVE', 'score': 0.5068520307540...</td>\n",
       "      <td>4932</td>\n",
       "    </tr>\n",
       "    <tr>\n",
       "      <th>999</th>\n",
       "      <td>{'label': 'POSITIVE', 'score': 0.9989112615585...</td>\n",
       "      <td>6140</td>\n",
       "    </tr>\n",
       "  </tbody>\n",
       "</table>\n",
       "<p>1000 rows × 2 columns</p>\n",
       "</div>"
      ]
     },
     "execution_count": 11,
     "metadata": {},
     "output_type": "execute_result"
    }
   ],
   "execution_count": 11
  },
  {
   "metadata": {
    "ExecuteTime": {
     "end_time": "2024-12-01T10:45:23.221725Z",
     "start_time": "2024-12-01T10:45:23.211422Z"
    }
   },
   "cell_type": "code",
   "source": "df = pd.read_csv(output_file)",
   "id": "e664ba8af24428a3",
   "outputs": [],
   "execution_count": 12
  },
  {
   "metadata": {
    "ExecuteTime": {
     "end_time": "2024-12-01T10:45:23.309906Z",
     "start_time": "2024-12-01T10:45:23.293379Z"
    }
   },
   "cell_type": "code",
   "source": [
    "combined_df = pd.concat([df_for_test, df], axis=1)\n",
    "combined_df"
   ],
   "id": "32b8dcf310fac8fa",
   "outputs": [
    {
     "data": {
      "text/plain": [
       "     item_id                                             review  Unnamed: 0  \\\n",
       "0     172063  one-shot record of a belly dancer; \"Carmencita...           0   \n",
       "1      95541  Banging Away..; Thomas Edison and William K.L....           1   \n",
       "2       7065  unbelievable; I cannot understand how anyone c...           2   \n",
       "3       3739  I'm still starry-eyed from it; I saw this last...           3   \n",
       "4       1562  Failed on every Front; Joel Schumacher who did...           4   \n",
       "..       ...                                                ...         ...   \n",
       "995    27699  I loved this movie.; I'd heard of Alice Paul, ...         995   \n",
       "996     8784  Perfection...; Now i say perfection, and i rea...         996   \n",
       "997    31225  excellent; To sum it all up, i would have to s...         997   \n",
       "998     4932  An incredible thrill ride; What do you get if ...         998   \n",
       "999     6140  Another example of Argento's genius; - Plot: (...         999   \n",
       "\n",
       "                                    sentiment_analysis  item_id  \n",
       "0    {'label': 'NEGATIVE', 'score': 0.9942500591278...   172063  \n",
       "1    {'label': 'POSITIVE', 'score': 0.9948009252548...    95541  \n",
       "2    {'label': 'NEGATIVE', 'score': 0.9970976114273...     7065  \n",
       "3    {'label': 'POSITIVE', 'score': 0.9997346997261...     3739  \n",
       "4    {'label': 'NEGATIVE', 'score': 0.9997946619987...     1562  \n",
       "..                                                 ...      ...  \n",
       "995  {'label': 'POSITIVE', 'score': 0.9998169541358...    27699  \n",
       "996  {'label': 'POSITIVE', 'score': 0.9979324340820...     8784  \n",
       "997  {'label': 'POSITIVE', 'score': 0.999785840511322}    31225  \n",
       "998  {'label': 'NEGATIVE', 'score': 0.5068520307540...     4932  \n",
       "999  {'label': 'POSITIVE', 'score': 0.9989112615585...     6140  \n",
       "\n",
       "[1000 rows x 5 columns]"
      ],
      "text/html": [
       "<div>\n",
       "<style scoped>\n",
       "    .dataframe tbody tr th:only-of-type {\n",
       "        vertical-align: middle;\n",
       "    }\n",
       "\n",
       "    .dataframe tbody tr th {\n",
       "        vertical-align: top;\n",
       "    }\n",
       "\n",
       "    .dataframe thead th {\n",
       "        text-align: right;\n",
       "    }\n",
       "</style>\n",
       "<table border=\"1\" class=\"dataframe\">\n",
       "  <thead>\n",
       "    <tr style=\"text-align: right;\">\n",
       "      <th></th>\n",
       "      <th>item_id</th>\n",
       "      <th>review</th>\n",
       "      <th>Unnamed: 0</th>\n",
       "      <th>sentiment_analysis</th>\n",
       "      <th>item_id</th>\n",
       "    </tr>\n",
       "  </thead>\n",
       "  <tbody>\n",
       "    <tr>\n",
       "      <th>0</th>\n",
       "      <td>172063</td>\n",
       "      <td>one-shot record of a belly dancer; \"Carmencita...</td>\n",
       "      <td>0</td>\n",
       "      <td>{'label': 'NEGATIVE', 'score': 0.9942500591278...</td>\n",
       "      <td>172063</td>\n",
       "    </tr>\n",
       "    <tr>\n",
       "      <th>1</th>\n",
       "      <td>95541</td>\n",
       "      <td>Banging Away..; Thomas Edison and William K.L....</td>\n",
       "      <td>1</td>\n",
       "      <td>{'label': 'POSITIVE', 'score': 0.9948009252548...</td>\n",
       "      <td>95541</td>\n",
       "    </tr>\n",
       "    <tr>\n",
       "      <th>2</th>\n",
       "      <td>7065</td>\n",
       "      <td>unbelievable; I cannot understand how anyone c...</td>\n",
       "      <td>2</td>\n",
       "      <td>{'label': 'NEGATIVE', 'score': 0.9970976114273...</td>\n",
       "      <td>7065</td>\n",
       "    </tr>\n",
       "    <tr>\n",
       "      <th>3</th>\n",
       "      <td>3739</td>\n",
       "      <td>I'm still starry-eyed from it; I saw this last...</td>\n",
       "      <td>3</td>\n",
       "      <td>{'label': 'POSITIVE', 'score': 0.9997346997261...</td>\n",
       "      <td>3739</td>\n",
       "    </tr>\n",
       "    <tr>\n",
       "      <th>4</th>\n",
       "      <td>1562</td>\n",
       "      <td>Failed on every Front; Joel Schumacher who did...</td>\n",
       "      <td>4</td>\n",
       "      <td>{'label': 'NEGATIVE', 'score': 0.9997946619987...</td>\n",
       "      <td>1562</td>\n",
       "    </tr>\n",
       "    <tr>\n",
       "      <th>...</th>\n",
       "      <td>...</td>\n",
       "      <td>...</td>\n",
       "      <td>...</td>\n",
       "      <td>...</td>\n",
       "      <td>...</td>\n",
       "    </tr>\n",
       "    <tr>\n",
       "      <th>995</th>\n",
       "      <td>27699</td>\n",
       "      <td>I loved this movie.; I'd heard of Alice Paul, ...</td>\n",
       "      <td>995</td>\n",
       "      <td>{'label': 'POSITIVE', 'score': 0.9998169541358...</td>\n",
       "      <td>27699</td>\n",
       "    </tr>\n",
       "    <tr>\n",
       "      <th>996</th>\n",
       "      <td>8784</td>\n",
       "      <td>Perfection...; Now i say perfection, and i rea...</td>\n",
       "      <td>996</td>\n",
       "      <td>{'label': 'POSITIVE', 'score': 0.9979324340820...</td>\n",
       "      <td>8784</td>\n",
       "    </tr>\n",
       "    <tr>\n",
       "      <th>997</th>\n",
       "      <td>31225</td>\n",
       "      <td>excellent; To sum it all up, i would have to s...</td>\n",
       "      <td>997</td>\n",
       "      <td>{'label': 'POSITIVE', 'score': 0.999785840511322}</td>\n",
       "      <td>31225</td>\n",
       "    </tr>\n",
       "    <tr>\n",
       "      <th>998</th>\n",
       "      <td>4932</td>\n",
       "      <td>An incredible thrill ride; What do you get if ...</td>\n",
       "      <td>998</td>\n",
       "      <td>{'label': 'NEGATIVE', 'score': 0.5068520307540...</td>\n",
       "      <td>4932</td>\n",
       "    </tr>\n",
       "    <tr>\n",
       "      <th>999</th>\n",
       "      <td>6140</td>\n",
       "      <td>Another example of Argento's genius; - Plot: (...</td>\n",
       "      <td>999</td>\n",
       "      <td>{'label': 'POSITIVE', 'score': 0.9989112615585...</td>\n",
       "      <td>6140</td>\n",
       "    </tr>\n",
       "  </tbody>\n",
       "</table>\n",
       "<p>1000 rows × 5 columns</p>\n",
       "</div>"
      ]
     },
     "execution_count": 13,
     "metadata": {},
     "output_type": "execute_result"
    }
   ],
   "execution_count": 13
  },
  {
   "metadata": {
    "ExecuteTime": {
     "end_time": "2024-12-01T10:45:23.393225Z",
     "start_time": "2024-12-01T10:45:23.381540Z"
    }
   },
   "cell_type": "code",
   "source": "combined_df.columns",
   "id": "f6161d866abd1e2d",
   "outputs": [
    {
     "data": {
      "text/plain": [
       "Index(['item_id', 'review', 'Unnamed: 0', 'sentiment_analysis', 'item_id'], dtype='object')"
      ]
     },
     "execution_count": 14,
     "metadata": {},
     "output_type": "execute_result"
    }
   ],
   "execution_count": 14
  },
  {
   "metadata": {
    "ExecuteTime": {
     "end_time": "2024-12-01T10:45:23.477039Z",
     "start_time": "2024-12-01T10:45:23.469137Z"
    }
   },
   "cell_type": "code",
   "source": "combined_df = combined_df.drop(columns=['Unnamed: 0'])",
   "id": "8e90db223f7645bf",
   "outputs": [],
   "execution_count": 15
  },
  {
   "metadata": {},
   "cell_type": "markdown",
   "source": "",
   "id": "df905577474db435"
  }
 ],
 "metadata": {
  "kernelspec": {
   "display_name": "Python 3",
   "language": "python",
   "name": "python3"
  },
  "language_info": {
   "codemirror_mode": {
    "name": "ipython",
    "version": 2
   },
   "file_extension": ".py",
   "mimetype": "text/x-python",
   "name": "python",
   "nbconvert_exporter": "python",
   "pygments_lexer": "ipython2",
   "version": "2.7.6"
  }
 },
 "nbformat": 4,
 "nbformat_minor": 5
}
