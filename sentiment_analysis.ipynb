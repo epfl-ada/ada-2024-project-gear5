{
 "cells": [
  {
   "cell_type": "code",
   "id": "initial_id",
   "metadata": {
    "collapsed": true,
    "ExecuteTime": {
     "end_time": "2024-11-30T18:01:21.712023Z",
     "start_time": "2024-11-30T18:01:12.991267Z"
    }
   },
   "source": [
    "import pandas as pd\n",
    "from pexpect.fdpexpect import fdspawn\n",
    "import warnings\n",
    "\n",
    "warnings.filterwarnings(\"ignore\")\n",
    "from src.models.sentiment_analysis import sentiment_analysis"
   ],
   "outputs": [],
   "execution_count": 1
  },
  {
   "metadata": {
    "ExecuteTime": {
     "end_time": "2024-11-30T18:01:21.721552Z",
     "start_time": "2024-11-30T18:01:21.718256Z"
    }
   },
   "cell_type": "code",
   "source": "#df_for_reviews = pd.read_json('./data/movie_dataset_public_final/raw/reviews.json', lines=True)",
   "id": "44d42abf532ac59f",
   "outputs": [],
   "execution_count": 2
  },
  {
   "metadata": {
    "ExecuteTime": {
     "end_time": "2024-11-30T18:01:28.773176Z",
     "start_time": "2024-11-30T18:01:21.810503Z"
    }
   },
   "cell_type": "code",
   "source": "df_for_reviews = pd.read_pickle(\"./data/reviews.pkl\")",
   "id": "63068e03d290266d",
   "outputs": [],
   "execution_count": 3
  },
  {
   "metadata": {
    "ExecuteTime": {
     "end_time": "2024-11-30T18:01:28.817021Z",
     "start_time": "2024-11-30T18:01:28.804774Z"
    }
   },
   "cell_type": "code",
   "source": "df_for_reviews",
   "id": "48df29177fc7059c",
   "outputs": [
    {
     "data": {
      "text/plain": [
       "         item_id                                                txt\n",
       "0         172063  one-shot record of a belly dancer; \"Carmencita...\n",
       "1          95541  Banging Away..; Thomas Edison and William K.L....\n",
       "2           7065  unbelievable; I cannot understand how anyone c...\n",
       "3           3739  I'm still starry-eyed from it; I saw this last...\n",
       "4           1562  Failed on every Front; Joel Schumacher who did...\n",
       "...          ...                                                ...\n",
       "2624603      520  Aims low, with hilarious results; ROBIN HOOD: ...\n",
       "2624604     8640  Worst epic of 2004; I usually love big epics i...\n",
       "2624605     1377  superb Second Movie; I was glad to see that Ti...\n",
       "2624606    26746  Seagal takes out the garbage; This is hard cor...\n",
       "2624607    34045  Is that I as in Butterfly?; In 2004, a film wa...\n",
       "\n",
       "[2624608 rows x 2 columns]"
      ],
      "text/html": [
       "<div>\n",
       "<style scoped>\n",
       "    .dataframe tbody tr th:only-of-type {\n",
       "        vertical-align: middle;\n",
       "    }\n",
       "\n",
       "    .dataframe tbody tr th {\n",
       "        vertical-align: top;\n",
       "    }\n",
       "\n",
       "    .dataframe thead th {\n",
       "        text-align: right;\n",
       "    }\n",
       "</style>\n",
       "<table border=\"1\" class=\"dataframe\">\n",
       "  <thead>\n",
       "    <tr style=\"text-align: right;\">\n",
       "      <th></th>\n",
       "      <th>item_id</th>\n",
       "      <th>txt</th>\n",
       "    </tr>\n",
       "  </thead>\n",
       "  <tbody>\n",
       "    <tr>\n",
       "      <th>0</th>\n",
       "      <td>172063</td>\n",
       "      <td>one-shot record of a belly dancer; \"Carmencita...</td>\n",
       "    </tr>\n",
       "    <tr>\n",
       "      <th>1</th>\n",
       "      <td>95541</td>\n",
       "      <td>Banging Away..; Thomas Edison and William K.L....</td>\n",
       "    </tr>\n",
       "    <tr>\n",
       "      <th>2</th>\n",
       "      <td>7065</td>\n",
       "      <td>unbelievable; I cannot understand how anyone c...</td>\n",
       "    </tr>\n",
       "    <tr>\n",
       "      <th>3</th>\n",
       "      <td>3739</td>\n",
       "      <td>I'm still starry-eyed from it; I saw this last...</td>\n",
       "    </tr>\n",
       "    <tr>\n",
       "      <th>4</th>\n",
       "      <td>1562</td>\n",
       "      <td>Failed on every Front; Joel Schumacher who did...</td>\n",
       "    </tr>\n",
       "    <tr>\n",
       "      <th>...</th>\n",
       "      <td>...</td>\n",
       "      <td>...</td>\n",
       "    </tr>\n",
       "    <tr>\n",
       "      <th>2624603</th>\n",
       "      <td>520</td>\n",
       "      <td>Aims low, with hilarious results; ROBIN HOOD: ...</td>\n",
       "    </tr>\n",
       "    <tr>\n",
       "      <th>2624604</th>\n",
       "      <td>8640</td>\n",
       "      <td>Worst epic of 2004; I usually love big epics i...</td>\n",
       "    </tr>\n",
       "    <tr>\n",
       "      <th>2624605</th>\n",
       "      <td>1377</td>\n",
       "      <td>superb Second Movie; I was glad to see that Ti...</td>\n",
       "    </tr>\n",
       "    <tr>\n",
       "      <th>2624606</th>\n",
       "      <td>26746</td>\n",
       "      <td>Seagal takes out the garbage; This is hard cor...</td>\n",
       "    </tr>\n",
       "    <tr>\n",
       "      <th>2624607</th>\n",
       "      <td>34045</td>\n",
       "      <td>Is that I as in Butterfly?; In 2004, a film wa...</td>\n",
       "    </tr>\n",
       "  </tbody>\n",
       "</table>\n",
       "<p>2624608 rows × 2 columns</p>\n",
       "</div>"
      ]
     },
     "execution_count": 4,
     "metadata": {},
     "output_type": "execute_result"
    }
   ],
   "execution_count": 4
  },
  {
   "metadata": {
    "ExecuteTime": {
     "end_time": "2024-11-30T18:01:28.913547Z",
     "start_time": "2024-11-30T18:01:28.906561Z"
    }
   },
   "cell_type": "code",
   "source": "df_for_reviews.dtypes",
   "id": "9cc4f8c39d95d9f2",
   "outputs": [
    {
     "data": {
      "text/plain": [
       "item_id     int64\n",
       "txt        object\n",
       "dtype: object"
      ]
     },
     "execution_count": 5,
     "metadata": {},
     "output_type": "execute_result"
    }
   ],
   "execution_count": 5
  },
  {
   "metadata": {
    "ExecuteTime": {
     "end_time": "2024-11-30T18:01:28.996682Z",
     "start_time": "2024-11-30T18:01:28.984769Z"
    }
   },
   "cell_type": "code",
   "source": [
    "df_for_test = df_for_reviews.iloc[0:1000]\n",
    "print(df_for_test.shape)\n",
    "df_for_test"
   ],
   "id": "c9142352bee5d54a",
   "outputs": [
    {
     "name": "stdout",
     "output_type": "stream",
     "text": [
      "(1000, 2)\n"
     ]
    },
    {
     "data": {
      "text/plain": [
       "     item_id                                                txt\n",
       "0     172063  one-shot record of a belly dancer; \"Carmencita...\n",
       "1      95541  Banging Away..; Thomas Edison and William K.L....\n",
       "2       7065  unbelievable; I cannot understand how anyone c...\n",
       "3       3739  I'm still starry-eyed from it; I saw this last...\n",
       "4       1562  Failed on every Front; Joel Schumacher who did...\n",
       "..       ...                                                ...\n",
       "995    27699  I loved this movie.; I'd heard of Alice Paul, ...\n",
       "996     8784  Perfection...; Now i say perfection, and i rea...\n",
       "997    31225  excellent; To sum it all up, i would have to s...\n",
       "998     4932  An incredible thrill ride; What do you get if ...\n",
       "999     6140  Another example of Argento's genius; - Plot: (...\n",
       "\n",
       "[1000 rows x 2 columns]"
      ],
      "text/html": [
       "<div>\n",
       "<style scoped>\n",
       "    .dataframe tbody tr th:only-of-type {\n",
       "        vertical-align: middle;\n",
       "    }\n",
       "\n",
       "    .dataframe tbody tr th {\n",
       "        vertical-align: top;\n",
       "    }\n",
       "\n",
       "    .dataframe thead th {\n",
       "        text-align: right;\n",
       "    }\n",
       "</style>\n",
       "<table border=\"1\" class=\"dataframe\">\n",
       "  <thead>\n",
       "    <tr style=\"text-align: right;\">\n",
       "      <th></th>\n",
       "      <th>item_id</th>\n",
       "      <th>txt</th>\n",
       "    </tr>\n",
       "  </thead>\n",
       "  <tbody>\n",
       "    <tr>\n",
       "      <th>0</th>\n",
       "      <td>172063</td>\n",
       "      <td>one-shot record of a belly dancer; \"Carmencita...</td>\n",
       "    </tr>\n",
       "    <tr>\n",
       "      <th>1</th>\n",
       "      <td>95541</td>\n",
       "      <td>Banging Away..; Thomas Edison and William K.L....</td>\n",
       "    </tr>\n",
       "    <tr>\n",
       "      <th>2</th>\n",
       "      <td>7065</td>\n",
       "      <td>unbelievable; I cannot understand how anyone c...</td>\n",
       "    </tr>\n",
       "    <tr>\n",
       "      <th>3</th>\n",
       "      <td>3739</td>\n",
       "      <td>I'm still starry-eyed from it; I saw this last...</td>\n",
       "    </tr>\n",
       "    <tr>\n",
       "      <th>4</th>\n",
       "      <td>1562</td>\n",
       "      <td>Failed on every Front; Joel Schumacher who did...</td>\n",
       "    </tr>\n",
       "    <tr>\n",
       "      <th>...</th>\n",
       "      <td>...</td>\n",
       "      <td>...</td>\n",
       "    </tr>\n",
       "    <tr>\n",
       "      <th>995</th>\n",
       "      <td>27699</td>\n",
       "      <td>I loved this movie.; I'd heard of Alice Paul, ...</td>\n",
       "    </tr>\n",
       "    <tr>\n",
       "      <th>996</th>\n",
       "      <td>8784</td>\n",
       "      <td>Perfection...; Now i say perfection, and i rea...</td>\n",
       "    </tr>\n",
       "    <tr>\n",
       "      <th>997</th>\n",
       "      <td>31225</td>\n",
       "      <td>excellent; To sum it all up, i would have to s...</td>\n",
       "    </tr>\n",
       "    <tr>\n",
       "      <th>998</th>\n",
       "      <td>4932</td>\n",
       "      <td>An incredible thrill ride; What do you get if ...</td>\n",
       "    </tr>\n",
       "    <tr>\n",
       "      <th>999</th>\n",
       "      <td>6140</td>\n",
       "      <td>Another example of Argento's genius; - Plot: (...</td>\n",
       "    </tr>\n",
       "  </tbody>\n",
       "</table>\n",
       "<p>1000 rows × 2 columns</p>\n",
       "</div>"
      ]
     },
     "execution_count": 6,
     "metadata": {},
     "output_type": "execute_result"
    }
   ],
   "execution_count": 6
  },
  {
   "metadata": {
    "ExecuteTime": {
     "end_time": "2024-11-30T18:02:36.453915Z",
     "start_time": "2024-11-30T18:01:29.154886Z"
    }
   },
   "cell_type": "code",
   "source": "df_with_sentiment = sentiment_analysis(df_for_test, \"txt\")",
   "id": "3b4410b959b7f50e",
   "outputs": [
    {
     "name": "stdout",
     "output_type": "stream",
     "text": [
      "distilbert-base-uncased-finetuned-sst-2-english\n"
     ]
    },
    {
     "name": "stderr",
     "output_type": "stream",
     "text": [
      "100%|██████████| 1000/1000 [01:06<00:00, 15.11it/s]\n"
     ]
    }
   ],
   "execution_count": 7
  },
  {
   "metadata": {
    "ExecuteTime": {
     "end_time": "2024-11-30T18:02:36.547288Z",
     "start_time": "2024-11-30T18:02:36.536002Z"
    }
   },
   "cell_type": "code",
   "source": "df_with_sentiment",
   "id": "1d1c5cad1e6cb535",
   "outputs": [
    {
     "data": {
      "text/plain": [
       "     item_id                                                txt sentiment  \\\n",
       "0     172063  one-shot record of a belly dancer; \"Carmencita...  NEGATIVE   \n",
       "1      95541  Banging Away..; Thomas Edison and William K.L....  POSITIVE   \n",
       "2       7065  unbelievable; I cannot understand how anyone c...  NEGATIVE   \n",
       "3       3739  I'm still starry-eyed from it; I saw this last...  POSITIVE   \n",
       "4       1562  Failed on every Front; Joel Schumacher who did...  NEGATIVE   \n",
       "..       ...                                                ...       ...   \n",
       "995    27699  I loved this movie.; I'd heard of Alice Paul, ...  POSITIVE   \n",
       "996     8784  Perfection...; Now i say perfection, and i rea...  POSITIVE   \n",
       "997    31225  excellent; To sum it all up, i would have to s...  POSITIVE   \n",
       "998     4932  An incredible thrill ride; What do you get if ...  NEGATIVE   \n",
       "999     6140  Another example of Argento's genius; - Plot: (...  POSITIVE   \n",
       "\n",
       "     sentiment_score  \n",
       "0           0.994250  \n",
       "1           0.994801  \n",
       "2           0.997098  \n",
       "3           0.999735  \n",
       "4           0.999795  \n",
       "..               ...  \n",
       "995         0.999817  \n",
       "996         0.997932  \n",
       "997         0.999786  \n",
       "998         0.506852  \n",
       "999         0.998911  \n",
       "\n",
       "[1000 rows x 4 columns]"
      ],
      "text/html": [
       "<div>\n",
       "<style scoped>\n",
       "    .dataframe tbody tr th:only-of-type {\n",
       "        vertical-align: middle;\n",
       "    }\n",
       "\n",
       "    .dataframe tbody tr th {\n",
       "        vertical-align: top;\n",
       "    }\n",
       "\n",
       "    .dataframe thead th {\n",
       "        text-align: right;\n",
       "    }\n",
       "</style>\n",
       "<table border=\"1\" class=\"dataframe\">\n",
       "  <thead>\n",
       "    <tr style=\"text-align: right;\">\n",
       "      <th></th>\n",
       "      <th>item_id</th>\n",
       "      <th>txt</th>\n",
       "      <th>sentiment</th>\n",
       "      <th>sentiment_score</th>\n",
       "    </tr>\n",
       "  </thead>\n",
       "  <tbody>\n",
       "    <tr>\n",
       "      <th>0</th>\n",
       "      <td>172063</td>\n",
       "      <td>one-shot record of a belly dancer; \"Carmencita...</td>\n",
       "      <td>NEGATIVE</td>\n",
       "      <td>0.994250</td>\n",
       "    </tr>\n",
       "    <tr>\n",
       "      <th>1</th>\n",
       "      <td>95541</td>\n",
       "      <td>Banging Away..; Thomas Edison and William K.L....</td>\n",
       "      <td>POSITIVE</td>\n",
       "      <td>0.994801</td>\n",
       "    </tr>\n",
       "    <tr>\n",
       "      <th>2</th>\n",
       "      <td>7065</td>\n",
       "      <td>unbelievable; I cannot understand how anyone c...</td>\n",
       "      <td>NEGATIVE</td>\n",
       "      <td>0.997098</td>\n",
       "    </tr>\n",
       "    <tr>\n",
       "      <th>3</th>\n",
       "      <td>3739</td>\n",
       "      <td>I'm still starry-eyed from it; I saw this last...</td>\n",
       "      <td>POSITIVE</td>\n",
       "      <td>0.999735</td>\n",
       "    </tr>\n",
       "    <tr>\n",
       "      <th>4</th>\n",
       "      <td>1562</td>\n",
       "      <td>Failed on every Front; Joel Schumacher who did...</td>\n",
       "      <td>NEGATIVE</td>\n",
       "      <td>0.999795</td>\n",
       "    </tr>\n",
       "    <tr>\n",
       "      <th>...</th>\n",
       "      <td>...</td>\n",
       "      <td>...</td>\n",
       "      <td>...</td>\n",
       "      <td>...</td>\n",
       "    </tr>\n",
       "    <tr>\n",
       "      <th>995</th>\n",
       "      <td>27699</td>\n",
       "      <td>I loved this movie.; I'd heard of Alice Paul, ...</td>\n",
       "      <td>POSITIVE</td>\n",
       "      <td>0.999817</td>\n",
       "    </tr>\n",
       "    <tr>\n",
       "      <th>996</th>\n",
       "      <td>8784</td>\n",
       "      <td>Perfection...; Now i say perfection, and i rea...</td>\n",
       "      <td>POSITIVE</td>\n",
       "      <td>0.997932</td>\n",
       "    </tr>\n",
       "    <tr>\n",
       "      <th>997</th>\n",
       "      <td>31225</td>\n",
       "      <td>excellent; To sum it all up, i would have to s...</td>\n",
       "      <td>POSITIVE</td>\n",
       "      <td>0.999786</td>\n",
       "    </tr>\n",
       "    <tr>\n",
       "      <th>998</th>\n",
       "      <td>4932</td>\n",
       "      <td>An incredible thrill ride; What do you get if ...</td>\n",
       "      <td>NEGATIVE</td>\n",
       "      <td>0.506852</td>\n",
       "    </tr>\n",
       "    <tr>\n",
       "      <th>999</th>\n",
       "      <td>6140</td>\n",
       "      <td>Another example of Argento's genius; - Plot: (...</td>\n",
       "      <td>POSITIVE</td>\n",
       "      <td>0.998911</td>\n",
       "    </tr>\n",
       "  </tbody>\n",
       "</table>\n",
       "<p>1000 rows × 4 columns</p>\n",
       "</div>"
      ]
     },
     "execution_count": 8,
     "metadata": {},
     "output_type": "execute_result"
    }
   ],
   "execution_count": 8
  }
 ],
 "metadata": {
  "kernelspec": {
   "display_name": "Python 3",
   "language": "python",
   "name": "python3"
  },
  "language_info": {
   "codemirror_mode": {
    "name": "ipython",
    "version": 2
   },
   "file_extension": ".py",
   "mimetype": "text/x-python",
   "name": "python",
   "nbconvert_exporter": "python",
   "pygments_lexer": "ipython2",
   "version": "2.7.6"
  }
 },
 "nbformat": 4,
 "nbformat_minor": 5
}
