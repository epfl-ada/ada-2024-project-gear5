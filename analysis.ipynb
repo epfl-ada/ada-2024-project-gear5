{
 "cells": [
  {
   "cell_type": "markdown",
   "metadata": {},
   "source": [
    "# Analysis"
   ]
  },
  {
   "cell_type": "markdown",
   "metadata": {},
   "source": [
    "## Importing libraries"
   ]
  },
  {
   "cell_type": "code",
   "execution_count": 221,
   "metadata": {},
   "outputs": [],
   "source": [
    "import pandas as pd\n",
    "pd.set_option('display.max_columns', None)\n",
    "\n",
    "import numpy as np\n",
    "import plotly.express as px\n",
    "import matplotlib.pyplot as plt\n",
    "\n",
    "from itertools import chain\n",
    "from collections import Counter\n"
   ]
  },
  {
   "cell_type": "markdown",
   "metadata": {},
   "source": [
    "## Loading data"
   ]
  },
  {
   "cell_type": "code",
   "execution_count": 197,
   "metadata": {},
   "outputs": [],
   "source": [
    "CMU_df = pd.read_pickle('./data/CMU_cleaned.pkl')\n",
    "TMDB_df = pd.read_csv('./data/TMDBMovies/TMDB_movie_dataset_v11.csv', sep=',', header=0)\n",
    "combined_df = pd.read_pickle('./data/combined_dataset.pkl')"
   ]
  },
  {
   "cell_type": "markdown",
   "metadata": {},
   "source": [
    "## World-wide movie distribution"
   ]
  },
  {
   "cell_type": "code",
   "execution_count": 198,
   "metadata": {},
   "outputs": [
    {
     "data": {
      "text/html": [
       "<div>\n",
       "<style scoped>\n",
       "    .dataframe tbody tr th:only-of-type {\n",
       "        vertical-align: middle;\n",
       "    }\n",
       "\n",
       "    .dataframe tbody tr th {\n",
       "        vertical-align: top;\n",
       "    }\n",
       "\n",
       "    .dataframe thead th {\n",
       "        text-align: right;\n",
       "    }\n",
       "</style>\n",
       "<table border=\"1\" class=\"dataframe\">\n",
       "  <thead>\n",
       "    <tr style=\"text-align: right;\">\n",
       "      <th></th>\n",
       "      <th>country</th>\n",
       "      <th>movie_count</th>\n",
       "      <th>log_transformed_count</th>\n",
       "    </tr>\n",
       "  </thead>\n",
       "  <tbody>\n",
       "    <tr>\n",
       "      <th>0</th>\n",
       "      <td>United States of America</td>\n",
       "      <td>192245</td>\n",
       "      <td>12.166531</td>\n",
       "    </tr>\n",
       "    <tr>\n",
       "      <th>1</th>\n",
       "      <td>France</td>\n",
       "      <td>44663</td>\n",
       "      <td>10.706923</td>\n",
       "    </tr>\n",
       "    <tr>\n",
       "      <th>2</th>\n",
       "      <td>Germany</td>\n",
       "      <td>41821</td>\n",
       "      <td>10.641178</td>\n",
       "    </tr>\n",
       "    <tr>\n",
       "      <th>3</th>\n",
       "      <td>Japan</td>\n",
       "      <td>41660</td>\n",
       "      <td>10.637321</td>\n",
       "    </tr>\n",
       "    <tr>\n",
       "      <th>4</th>\n",
       "      <td>United Kingdom</td>\n",
       "      <td>41023</td>\n",
       "      <td>10.621913</td>\n",
       "    </tr>\n",
       "    <tr>\n",
       "      <th>5</th>\n",
       "      <td>Canada</td>\n",
       "      <td>24286</td>\n",
       "      <td>10.097697</td>\n",
       "    </tr>\n",
       "    <tr>\n",
       "      <th>6</th>\n",
       "      <td>India</td>\n",
       "      <td>21243</td>\n",
       "      <td>9.963830</td>\n",
       "    </tr>\n",
       "    <tr>\n",
       "      <th>7</th>\n",
       "      <td>Italy</td>\n",
       "      <td>18841</td>\n",
       "      <td>9.843844</td>\n",
       "    </tr>\n",
       "    <tr>\n",
       "      <th>8</th>\n",
       "      <td>Brazil</td>\n",
       "      <td>17011</td>\n",
       "      <td>9.741674</td>\n",
       "    </tr>\n",
       "    <tr>\n",
       "      <th>9</th>\n",
       "      <td>Spain</td>\n",
       "      <td>15172</td>\n",
       "      <td>9.627273</td>\n",
       "    </tr>\n",
       "  </tbody>\n",
       "</table>\n",
       "</div>"
      ],
      "text/plain": [
       "                    country  movie_count  log_transformed_count\n",
       "0  United States of America       192245              12.166531\n",
       "1                    France        44663              10.706923\n",
       "2                   Germany        41821              10.641178\n",
       "3                     Japan        41660              10.637321\n",
       "4            United Kingdom        41023              10.621913\n",
       "5                    Canada        24286              10.097697\n",
       "6                     India        21243               9.963830\n",
       "7                     Italy        18841               9.843844\n",
       "8                    Brazil        17011               9.741674\n",
       "9                     Spain        15172               9.627273"
      ]
     },
     "execution_count": 198,
     "metadata": {},
     "output_type": "execute_result"
    }
   ],
   "source": [
    "TMDB_countries_df = TMDB_df.dropna(subset=['production_countries'])\n",
    "\n",
    "countries = TMDB_countries_df[\"production_countries\"].apply(lambda x: x.split(', ')).tolist()\n",
    "counts = Counter(list(chain(*countries)))\n",
    "counts_df =  pd.DataFrame({\"country\": list(counts.keys()), \"movie_count\": list(counts.values())}).sort_values(by='movie_count', ascending=False).reset_index(drop=True)\n",
    "counts_df['log_transformed_count'] = np.log1p(counts_df['movie_count'])  # log1p(x) = log(1 + x) to handle zeroes\n",
    "counts_df.head(10)"
   ]
  },
  {
   "cell_type": "code",
   "execution_count": 199,
   "metadata": {},
   "outputs": [
    {
     "data": {
      "application/vnd.plotly.v1+json": {
       "config": {
        "plotlyServerURL": "https://plot.ly"
       },
       "data": [
        {
         "coloraxis": "coloraxis",
         "geo": "geo",
         "hovertemplate": "country=%{location}<br>Log-transform amout=%{z}<extra></extra>",
         "locationmode": "country names",
         "locations": [
          "United States of America",
          "France",
          "Germany",
          "Japan",
          "United Kingdom",
          "Canada",
          "India",
          "Italy",
          "Brazil",
          "Spain",
          "Mexico",
          "China",
          "Russia",
          "South Korea",
          "Argentina",
          "Soviet Union",
          "Sweden",
          "Czech Republic",
          "Philippines",
          "Australia",
          "Netherlands",
          "Hong Kong",
          "Czechoslovakia",
          "Poland",
          "Belgium",
          "Austria",
          "Denmark",
          "Turkey",
          "Switzerland",
          "Indonesia",
          "Portugal",
          "Finland",
          "Greece",
          "Norway",
          "Taiwan",
          "Hungary",
          "Iran",
          "Egypt",
          "Thailand",
          "Ukraine",
          "Ireland",
          "Yugoslavia",
          "Chile",
          "Israel",
          "Romania",
          "South Africa",
          "Malaysia",
          "Colombia",
          "New Zealand",
          "East Germany",
          "Latvia",
          "Puerto Rico",
          "Croatia",
          "Serbia",
          "Bulgaria",
          "Peru",
          "Singapore",
          "Slovakia",
          "Estonia",
          "Iceland",
          "Kazakhstan",
          "Slovenia",
          "Bangladesh",
          "Cuba",
          "Uruguay",
          "Lithuania",
          "Nigeria",
          "Lebanon",
          "Venezuela",
          "Vietnam",
          "Pakistan",
          "Morocco",
          "Luxembourg",
          "Macedonia",
          "Bosnia and Herzegovina",
          "Algeria",
          "Belarus",
          "Palestinian Territory",
          "Dominican Republic",
          "Ecuador",
          "Costa Rica",
          "Georgia",
          "Albania",
          "Tunisia",
          "Mongolia",
          "United Arab Emirates",
          "Saudi Arabia",
          "Qatar",
          "Iraq",
          "Nepal",
          "Cambodia",
          "Kuwait",
          "Sri Lanka",
          "Azerbaijan",
          "Syrian Arab Republic",
          "Bolivia",
          "Armenia",
          "Senegal",
          "Afghanistan",
          "Myanmar",
          "Ethiopia",
          "Kenya",
          "Ghana",
          "Guatemala",
          "Macao",
          "North Korea",
          "Cameroon",
          "Paraguay",
          "Burkina Faso",
          "Congo",
          "Cyprus",
          "Kosovo",
          "Uzbekistan",
          "Jordan",
          "Montenegro",
          "Uganda",
          "Panama",
          "Malta",
          "Kyrgyz Republic",
          "Serbia and Montenegro",
          "Haiti",
          "Northern Ireland",
          "Nicaragua",
          "Honduras",
          "Tanzania",
          "Jamaica",
          "Mali",
          "Moldova",
          "Trinidad and Tobago",
          "Angola",
          "Mozambique",
          "Sudan",
          "Madagascar",
          "Zimbabwe",
          "El Salvador",
          "Cote D'Ivoire",
          "Rwanda",
          "Niger",
          "Namibia",
          "French Polynesia",
          "Greenland",
          "Lao People's Democratic Republic",
          "Papua New Guinea",
          "Bhutan",
          "Benin",
          "Zambia",
          "Cape Verde",
          "Liechtenstein",
          "Somalia",
          "Gabon",
          "Guinea-Bissau",
          "Tajikistan",
          "Monaco",
          "Bahamas",
          "Guinea",
          "Faeroe Islands",
          "Maldives",
          "Mauritius",
          "Libyan Arab Jamahiriya",
          "Bahrain",
          "Chad",
          "Central African Republic",
          "Yemen",
          "Mauritania",
          "Barbados",
          "Turkmenistan",
          "Botswana",
          "Andorra",
          "Togo",
          "Malawi",
          "Sierra Leone",
          "Reunion",
          "Fiji",
          "Guadaloupe",
          "Brunei Darussalam",
          "Suriname",
          "Oman",
          "Liberia",
          "Netherlands Antilles",
          "New Caledonia",
          "Lesotho",
          "Belize",
          "Burundi",
          "South Sudan",
          "Eritrea",
          "Guam",
          "Vanuatu",
          "Martinique",
          "Aruba",
          "Swaziland",
          "Gambia",
          "Solomon Islands",
          "Guyana",
          "Timor-Leste",
          "Equatorial Guinea",
          "Antigua and Barbuda",
          "Samoa",
          "St. Lucia",
          "French Guiana",
          "Marshall Islands",
          "Tonga",
          "Bermuda",
          "Antarctica",
          "US Virgin Islands",
          "Kiribati",
          "Djibouti",
          "Comoros",
          "Northern Mariana Islands",
          "United States Minor Outlying Islands",
          "San Marino",
          "Dominica",
          "Grenada",
          "Mayotte",
          "Holy See",
          "Sao Tome and Principe",
          "Cayman Islands",
          "Seychelles",
          "Svalbard & Jan Mayen Islands",
          "Gibraltar",
          "Montserrat",
          "St. Vincent and the Grenadines",
          "Micronesia",
          "Tuvalu",
          "American Samoa",
          "Turks and Caicos Islands",
          "Palau",
          "British Indian Ocean Territory",
          "Cook Islands",
          "St. Helena",
          "St. Kitts and Nevis",
          "Western Sahara",
          "British Virgin Islands",
          "Christmas Island",
          "Falkland Islands",
          "Tokelau",
          "St. Pierre and Miquelon",
          "Norfolk Island",
          "Wallis and Futuna Islands",
          "Niue",
          "Pitcairn Island",
          "Nauru",
          "Anguilla",
          "French Southern Territories",
          "Heard and McDonald Islands",
          "Zaire",
          "East Timor",
          "Cocos  Islands",
          "Bouvet Island",
          "South Georgia and the South Sandwich Islands"
         ],
         "name": "",
         "type": "choropleth",
         "z": [
          12.166531080909564,
          10.706923086990196,
          10.641177795846746,
          10.63732071836749,
          10.621912540280341,
          10.097696506752222,
          9.96382978154229,
          9.843843699608612,
          9.741674256373525,
          9.627272811525241,
          9.461954755266087,
          9.282568005973063,
          9.274722630905451,
          9.148677711584076,
          9.13194630454817,
          9.121509158269568,
          9.001222992395064,
          8.926783114101351,
          8.909640602443098,
          8.903815211722922,
          8.833171133022866,
          8.793612071589308,
          8.780633799494984,
          8.630343289348893,
          8.598220030058611,
          8.53503310954457,
          8.523175263093785,
          8.492900498847193,
          8.4252971767117,
          8.421562960400987,
          8.321907968230423,
          8.268731832117737,
          8.211482916445066,
          8.204124932574041,
          8.185350223178686,
          8.109525659752872,
          7.996317231796746,
          7.927324360309794,
          7.877017895622398,
          7.840312983320164,
          7.80954132465341,
          7.752335163302292,
          7.7284157798410416,
          7.721791776817535,
          7.488852955733459,
          7.484930283289661,
          7.414572881350589,
          7.370860166536716,
          7.31986492980897,
          7.3098814858247865,
          7.253470382684528,
          7.0909098220799835,
          7.078341579557671,
          7.07326971745971,
          7.061334366910438,
          7.050122520269059,
          7.0431599159883405,
          6.957497370876951,
          6.92951677076365,
          6.858565034791365,
          6.842683282238422,
          6.8308742346461795,
          6.776506992372183,
          6.699500340161678,
          6.682108597449809,
          6.555356891810665,
          6.535241271013659,
          6.530877627725885,
          6.517671272912275,
          6.51025834052315,
          6.415096959171596,
          6.315358001522335,
          6.26530121273771,
          6.240275845170769,
          6.238324625039508,
          6.184148890937483,
          6.126869184114185,
          6.115892125483034,
          6.100318952020064,
          6.0867747269123065,
          6.073044534100405,
          6.061456918928017,
          5.924255797414532,
          5.877735781779639,
          5.8664680569332965,
          5.855071922202427,
          5.808142489980444,
          5.793013608384144,
          5.736572297479192,
          5.726847747587197,
          5.641907070938114,
          5.641907070938114,
          5.6240175061873385,
          5.493061443340548,
          5.459585514144159,
          5.4510384535657,
          5.41610040220442,
          5.389071729816501,
          5.3612921657094255,
          5.351858133476067,
          5.3230099791384085,
          5.308267697401205,
          5.288267030694535,
          5.209486152841421,
          5.176149732573829,
          5.093750200806762,
          5.056245805348308,
          5.0238805208462765,
          5.0238805208462765,
          5.017279836814924,
          4.962844630259907,
          4.9344739331306915,
          4.836281906951478,
          4.836281906951478,
          4.795790545596741,
          4.727387818712341,
          4.709530201312334,
          4.6913478822291435,
          4.663439094112067,
          4.59511985013459,
          4.532599493153256,
          4.465908118654584,
          4.465908118654584,
          4.430816798843313,
          4.406719247264253,
          4.394449154672439,
          4.382026634673881,
          4.343805421853684,
          4.31748811353631,
          4.31748811353631,
          4.30406509320417,
          4.290459441148391,
          4.290459441148391,
          4.2626798770413155,
          4.23410650459726,
          4.1588830833596715,
          4.0943445622221,
          4.0943445622221,
          4.0943445622221,
          4.0943445622221,
          4.060443010546419,
          4.060443010546419,
          3.8918202981106265,
          3.8501476017100584,
          3.828641396489095,
          3.713572066704308,
          3.6888794541139363,
          3.6888794541139363,
          3.6635616461296463,
          3.6375861597263857,
          3.6375861597263857,
          3.6375861597263857,
          3.6109179126442243,
          3.58351893845611,
          3.58351893845611,
          3.5553480614894135,
          3.5263605246161616,
          3.5263605246161616,
          3.5263605246161616,
          3.4657359027997265,
          3.4339872044851463,
          3.4339872044851463,
          3.4339872044851463,
          3.4339872044851463,
          3.4011973816621555,
          3.4011973816621555,
          3.367295829986474,
          3.295836866004329,
          3.295836866004329,
          3.295836866004329,
          3.258096538021482,
          3.258096538021482,
          3.258096538021482,
          3.2188758248682006,
          3.2188758248682006,
          3.1780538303479458,
          3.1780538303479458,
          3.1354942159291497,
          3.1354942159291497,
          2.995732273553991,
          2.995732273553991,
          2.995732273553991,
          2.9444389791664403,
          2.9444389791664403,
          2.9444389791664403,
          2.9444389791664403,
          2.8903717578961645,
          2.833213344056216,
          2.833213344056216,
          2.833213344056216,
          2.772588722239781,
          2.772588722239781,
          2.70805020110221,
          2.70805020110221,
          2.5649493574615367,
          2.5649493574615367,
          2.5649493574615367,
          2.4849066497880004,
          2.4849066497880004,
          2.4849066497880004,
          2.4849066497880004,
          2.4849066497880004,
          2.4849066497880004,
          2.3978952727983707,
          2.3978952727983707,
          2.3978952727983707,
          2.3978952727983707,
          2.302585092994046,
          2.302585092994046,
          2.302585092994046,
          2.302585092994046,
          2.302585092994046,
          2.1972245773362196,
          2.1972245773362196,
          2.1972245773362196,
          2.0794415416798357,
          2.0794415416798357,
          2.0794415416798357,
          2.0794415416798357,
          1.9459101490553132,
          1.9459101490553132,
          1.9459101490553132,
          1.9459101490553132,
          1.9459101490553132,
          1.9459101490553132,
          1.9459101490553132,
          1.791759469228055,
          1.791759469228055,
          1.791759469228055,
          1.791759469228055,
          1.6094379124341003,
          1.6094379124341003,
          1.6094379124341003,
          1.6094379124341003,
          1.3862943611198906,
          1.3862943611198906,
          1.0986122886681098,
          1.0986122886681098,
          1.0986122886681098,
          1.0986122886681098,
          1.0986122886681098,
          1.0986122886681098,
          1.0986122886681098,
          1.0986122886681098,
          0.6931471805599453,
          0.6931471805599453,
          0.6931471805599453,
          0.6931471805599453,
          0.6931471805599453
         ]
        }
       ],
       "layout": {
        "coloraxis": {
         "colorbar": {
          "title": {
           "text": "Log-transform amout"
          }
         },
         "colorscale": [
          [
           0,
           "rgb(253, 224, 197)"
          ],
          [
           0.16666666666666666,
           "rgb(250, 203, 166)"
          ],
          [
           0.3333333333333333,
           "rgb(248, 181, 139)"
          ],
          [
           0.5,
           "rgb(245, 158, 114)"
          ],
          [
           0.6666666666666666,
           "rgb(242, 133, 93)"
          ],
          [
           0.8333333333333334,
           "rgb(239, 106, 76)"
          ],
          [
           1,
           "rgb(235, 74, 64)"
          ]
         ]
        },
        "geo": {
         "center": {},
         "domain": {
          "x": [
           0,
           1
          ],
          "y": [
           0,
           1
          ]
         }
        },
        "legend": {
         "tracegroupgap": 0
        },
        "template": {
         "data": {
          "bar": [
           {
            "error_x": {
             "color": "#f2f5fa"
            },
            "error_y": {
             "color": "#f2f5fa"
            },
            "marker": {
             "line": {
              "color": "rgb(17,17,17)",
              "width": 0.5
             },
             "pattern": {
              "fillmode": "overlay",
              "size": 10,
              "solidity": 0.2
             }
            },
            "type": "bar"
           }
          ],
          "barpolar": [
           {
            "marker": {
             "line": {
              "color": "rgb(17,17,17)",
              "width": 0.5
             },
             "pattern": {
              "fillmode": "overlay",
              "size": 10,
              "solidity": 0.2
             }
            },
            "type": "barpolar"
           }
          ],
          "carpet": [
           {
            "aaxis": {
             "endlinecolor": "#A2B1C6",
             "gridcolor": "#506784",
             "linecolor": "#506784",
             "minorgridcolor": "#506784",
             "startlinecolor": "#A2B1C6"
            },
            "baxis": {
             "endlinecolor": "#A2B1C6",
             "gridcolor": "#506784",
             "linecolor": "#506784",
             "minorgridcolor": "#506784",
             "startlinecolor": "#A2B1C6"
            },
            "type": "carpet"
           }
          ],
          "choropleth": [
           {
            "colorbar": {
             "outlinewidth": 0,
             "ticks": ""
            },
            "type": "choropleth"
           }
          ],
          "contour": [
           {
            "colorbar": {
             "outlinewidth": 0,
             "ticks": ""
            },
            "colorscale": [
             [
              0,
              "#0d0887"
             ],
             [
              0.1111111111111111,
              "#46039f"
             ],
             [
              0.2222222222222222,
              "#7201a8"
             ],
             [
              0.3333333333333333,
              "#9c179e"
             ],
             [
              0.4444444444444444,
              "#bd3786"
             ],
             [
              0.5555555555555556,
              "#d8576b"
             ],
             [
              0.6666666666666666,
              "#ed7953"
             ],
             [
              0.7777777777777778,
              "#fb9f3a"
             ],
             [
              0.8888888888888888,
              "#fdca26"
             ],
             [
              1,
              "#f0f921"
             ]
            ],
            "type": "contour"
           }
          ],
          "contourcarpet": [
           {
            "colorbar": {
             "outlinewidth": 0,
             "ticks": ""
            },
            "type": "contourcarpet"
           }
          ],
          "heatmap": [
           {
            "colorbar": {
             "outlinewidth": 0,
             "ticks": ""
            },
            "colorscale": [
             [
              0,
              "#0d0887"
             ],
             [
              0.1111111111111111,
              "#46039f"
             ],
             [
              0.2222222222222222,
              "#7201a8"
             ],
             [
              0.3333333333333333,
              "#9c179e"
             ],
             [
              0.4444444444444444,
              "#bd3786"
             ],
             [
              0.5555555555555556,
              "#d8576b"
             ],
             [
              0.6666666666666666,
              "#ed7953"
             ],
             [
              0.7777777777777778,
              "#fb9f3a"
             ],
             [
              0.8888888888888888,
              "#fdca26"
             ],
             [
              1,
              "#f0f921"
             ]
            ],
            "type": "heatmap"
           }
          ],
          "heatmapgl": [
           {
            "colorbar": {
             "outlinewidth": 0,
             "ticks": ""
            },
            "colorscale": [
             [
              0,
              "#0d0887"
             ],
             [
              0.1111111111111111,
              "#46039f"
             ],
             [
              0.2222222222222222,
              "#7201a8"
             ],
             [
              0.3333333333333333,
              "#9c179e"
             ],
             [
              0.4444444444444444,
              "#bd3786"
             ],
             [
              0.5555555555555556,
              "#d8576b"
             ],
             [
              0.6666666666666666,
              "#ed7953"
             ],
             [
              0.7777777777777778,
              "#fb9f3a"
             ],
             [
              0.8888888888888888,
              "#fdca26"
             ],
             [
              1,
              "#f0f921"
             ]
            ],
            "type": "heatmapgl"
           }
          ],
          "histogram": [
           {
            "marker": {
             "pattern": {
              "fillmode": "overlay",
              "size": 10,
              "solidity": 0.2
             }
            },
            "type": "histogram"
           }
          ],
          "histogram2d": [
           {
            "colorbar": {
             "outlinewidth": 0,
             "ticks": ""
            },
            "colorscale": [
             [
              0,
              "#0d0887"
             ],
             [
              0.1111111111111111,
              "#46039f"
             ],
             [
              0.2222222222222222,
              "#7201a8"
             ],
             [
              0.3333333333333333,
              "#9c179e"
             ],
             [
              0.4444444444444444,
              "#bd3786"
             ],
             [
              0.5555555555555556,
              "#d8576b"
             ],
             [
              0.6666666666666666,
              "#ed7953"
             ],
             [
              0.7777777777777778,
              "#fb9f3a"
             ],
             [
              0.8888888888888888,
              "#fdca26"
             ],
             [
              1,
              "#f0f921"
             ]
            ],
            "type": "histogram2d"
           }
          ],
          "histogram2dcontour": [
           {
            "colorbar": {
             "outlinewidth": 0,
             "ticks": ""
            },
            "colorscale": [
             [
              0,
              "#0d0887"
             ],
             [
              0.1111111111111111,
              "#46039f"
             ],
             [
              0.2222222222222222,
              "#7201a8"
             ],
             [
              0.3333333333333333,
              "#9c179e"
             ],
             [
              0.4444444444444444,
              "#bd3786"
             ],
             [
              0.5555555555555556,
              "#d8576b"
             ],
             [
              0.6666666666666666,
              "#ed7953"
             ],
             [
              0.7777777777777778,
              "#fb9f3a"
             ],
             [
              0.8888888888888888,
              "#fdca26"
             ],
             [
              1,
              "#f0f921"
             ]
            ],
            "type": "histogram2dcontour"
           }
          ],
          "mesh3d": [
           {
            "colorbar": {
             "outlinewidth": 0,
             "ticks": ""
            },
            "type": "mesh3d"
           }
          ],
          "parcoords": [
           {
            "line": {
             "colorbar": {
              "outlinewidth": 0,
              "ticks": ""
             }
            },
            "type": "parcoords"
           }
          ],
          "pie": [
           {
            "automargin": true,
            "type": "pie"
           }
          ],
          "scatter": [
           {
            "marker": {
             "line": {
              "color": "#283442"
             }
            },
            "type": "scatter"
           }
          ],
          "scatter3d": [
           {
            "line": {
             "colorbar": {
              "outlinewidth": 0,
              "ticks": ""
             }
            },
            "marker": {
             "colorbar": {
              "outlinewidth": 0,
              "ticks": ""
             }
            },
            "type": "scatter3d"
           }
          ],
          "scattercarpet": [
           {
            "marker": {
             "colorbar": {
              "outlinewidth": 0,
              "ticks": ""
             }
            },
            "type": "scattercarpet"
           }
          ],
          "scattergeo": [
           {
            "marker": {
             "colorbar": {
              "outlinewidth": 0,
              "ticks": ""
             }
            },
            "type": "scattergeo"
           }
          ],
          "scattergl": [
           {
            "marker": {
             "line": {
              "color": "#283442"
             }
            },
            "type": "scattergl"
           }
          ],
          "scattermapbox": [
           {
            "marker": {
             "colorbar": {
              "outlinewidth": 0,
              "ticks": ""
             }
            },
            "type": "scattermapbox"
           }
          ],
          "scatterpolar": [
           {
            "marker": {
             "colorbar": {
              "outlinewidth": 0,
              "ticks": ""
             }
            },
            "type": "scatterpolar"
           }
          ],
          "scatterpolargl": [
           {
            "marker": {
             "colorbar": {
              "outlinewidth": 0,
              "ticks": ""
             }
            },
            "type": "scatterpolargl"
           }
          ],
          "scatterternary": [
           {
            "marker": {
             "colorbar": {
              "outlinewidth": 0,
              "ticks": ""
             }
            },
            "type": "scatterternary"
           }
          ],
          "surface": [
           {
            "colorbar": {
             "outlinewidth": 0,
             "ticks": ""
            },
            "colorscale": [
             [
              0,
              "#0d0887"
             ],
             [
              0.1111111111111111,
              "#46039f"
             ],
             [
              0.2222222222222222,
              "#7201a8"
             ],
             [
              0.3333333333333333,
              "#9c179e"
             ],
             [
              0.4444444444444444,
              "#bd3786"
             ],
             [
              0.5555555555555556,
              "#d8576b"
             ],
             [
              0.6666666666666666,
              "#ed7953"
             ],
             [
              0.7777777777777778,
              "#fb9f3a"
             ],
             [
              0.8888888888888888,
              "#fdca26"
             ],
             [
              1,
              "#f0f921"
             ]
            ],
            "type": "surface"
           }
          ],
          "table": [
           {
            "cells": {
             "fill": {
              "color": "#506784"
             },
             "line": {
              "color": "rgb(17,17,17)"
             }
            },
            "header": {
             "fill": {
              "color": "#2a3f5f"
             },
             "line": {
              "color": "rgb(17,17,17)"
             }
            },
            "type": "table"
           }
          ]
         },
         "layout": {
          "annotationdefaults": {
           "arrowcolor": "#f2f5fa",
           "arrowhead": 0,
           "arrowwidth": 1
          },
          "autotypenumbers": "strict",
          "coloraxis": {
           "colorbar": {
            "outlinewidth": 0,
            "ticks": ""
           }
          },
          "colorscale": {
           "diverging": [
            [
             0,
             "#8e0152"
            ],
            [
             0.1,
             "#c51b7d"
            ],
            [
             0.2,
             "#de77ae"
            ],
            [
             0.3,
             "#f1b6da"
            ],
            [
             0.4,
             "#fde0ef"
            ],
            [
             0.5,
             "#f7f7f7"
            ],
            [
             0.6,
             "#e6f5d0"
            ],
            [
             0.7,
             "#b8e186"
            ],
            [
             0.8,
             "#7fbc41"
            ],
            [
             0.9,
             "#4d9221"
            ],
            [
             1,
             "#276419"
            ]
           ],
           "sequential": [
            [
             0,
             "#0d0887"
            ],
            [
             0.1111111111111111,
             "#46039f"
            ],
            [
             0.2222222222222222,
             "#7201a8"
            ],
            [
             0.3333333333333333,
             "#9c179e"
            ],
            [
             0.4444444444444444,
             "#bd3786"
            ],
            [
             0.5555555555555556,
             "#d8576b"
            ],
            [
             0.6666666666666666,
             "#ed7953"
            ],
            [
             0.7777777777777778,
             "#fb9f3a"
            ],
            [
             0.8888888888888888,
             "#fdca26"
            ],
            [
             1,
             "#f0f921"
            ]
           ],
           "sequentialminus": [
            [
             0,
             "#0d0887"
            ],
            [
             0.1111111111111111,
             "#46039f"
            ],
            [
             0.2222222222222222,
             "#7201a8"
            ],
            [
             0.3333333333333333,
             "#9c179e"
            ],
            [
             0.4444444444444444,
             "#bd3786"
            ],
            [
             0.5555555555555556,
             "#d8576b"
            ],
            [
             0.6666666666666666,
             "#ed7953"
            ],
            [
             0.7777777777777778,
             "#fb9f3a"
            ],
            [
             0.8888888888888888,
             "#fdca26"
            ],
            [
             1,
             "#f0f921"
            ]
           ]
          },
          "colorway": [
           "#636efa",
           "#EF553B",
           "#00cc96",
           "#ab63fa",
           "#FFA15A",
           "#19d3f3",
           "#FF6692",
           "#B6E880",
           "#FF97FF",
           "#FECB52"
          ],
          "font": {
           "color": "#f2f5fa"
          },
          "geo": {
           "bgcolor": "rgb(17,17,17)",
           "lakecolor": "rgb(17,17,17)",
           "landcolor": "rgb(17,17,17)",
           "showlakes": true,
           "showland": true,
           "subunitcolor": "#506784"
          },
          "hoverlabel": {
           "align": "left"
          },
          "hovermode": "closest",
          "mapbox": {
           "style": "dark"
          },
          "paper_bgcolor": "rgb(17,17,17)",
          "plot_bgcolor": "rgb(17,17,17)",
          "polar": {
           "angularaxis": {
            "gridcolor": "#506784",
            "linecolor": "#506784",
            "ticks": ""
           },
           "bgcolor": "rgb(17,17,17)",
           "radialaxis": {
            "gridcolor": "#506784",
            "linecolor": "#506784",
            "ticks": ""
           }
          },
          "scene": {
           "xaxis": {
            "backgroundcolor": "rgb(17,17,17)",
            "gridcolor": "#506784",
            "gridwidth": 2,
            "linecolor": "#506784",
            "showbackground": true,
            "ticks": "",
            "zerolinecolor": "#C8D4E3"
           },
           "yaxis": {
            "backgroundcolor": "rgb(17,17,17)",
            "gridcolor": "#506784",
            "gridwidth": 2,
            "linecolor": "#506784",
            "showbackground": true,
            "ticks": "",
            "zerolinecolor": "#C8D4E3"
           },
           "zaxis": {
            "backgroundcolor": "rgb(17,17,17)",
            "gridcolor": "#506784",
            "gridwidth": 2,
            "linecolor": "#506784",
            "showbackground": true,
            "ticks": "",
            "zerolinecolor": "#C8D4E3"
           }
          },
          "shapedefaults": {
           "line": {
            "color": "#f2f5fa"
           }
          },
          "sliderdefaults": {
           "bgcolor": "#C8D4E3",
           "bordercolor": "rgb(17,17,17)",
           "borderwidth": 1,
           "tickwidth": 0
          },
          "ternary": {
           "aaxis": {
            "gridcolor": "#506784",
            "linecolor": "#506784",
            "ticks": ""
           },
           "baxis": {
            "gridcolor": "#506784",
            "linecolor": "#506784",
            "ticks": ""
           },
           "bgcolor": "rgb(17,17,17)",
           "caxis": {
            "gridcolor": "#506784",
            "linecolor": "#506784",
            "ticks": ""
           }
          },
          "title": {
           "x": 0.05
          },
          "updatemenudefaults": {
           "bgcolor": "#506784",
           "borderwidth": 0
          },
          "xaxis": {
           "automargin": true,
           "gridcolor": "#283442",
           "linecolor": "#506784",
           "ticks": "",
           "title": {
            "standoff": 15
           },
           "zerolinecolor": "#283442",
           "zerolinewidth": 2
          },
          "yaxis": {
           "automargin": true,
           "gridcolor": "#283442",
           "linecolor": "#506784",
           "ticks": "",
           "title": {
            "standoff": 15
           },
           "zerolinecolor": "#283442",
           "zerolinewidth": 2
          }
         }
        },
        "title": {
         "text": "Frequency of Movies Published by Country"
        }
       }
      }
     },
     "metadata": {},
     "output_type": "display_data"
    }
   ],
   "source": [
    "fig = px.choropleth(\n",
    "    counts_df,\n",
    "    locations='country',\n",
    "    locationmode='country names',\n",
    "    color='log_transformed_count',\n",
    "    color_continuous_scale='peach',\n",
    "    title='Frequency of Movies Published by Country',\n",
    "    labels={'log_transformed_count': 'Log-transform amout'},\n",
    "    template='plotly_dark'\n",
    ")\n",
    "\n",
    "fig.show()\n"
   ]
  },
  {
   "cell_type": "markdown",
   "metadata": {},
   "source": [
    "## All-time movie distribution"
   ]
  },
  {
   "cell_type": "markdown",
   "metadata": {},
   "source": [
    "### With the CMU-TMDB combined dataset"
   ]
  },
  {
   "cell_type": "code",
   "execution_count": 200,
   "metadata": {},
   "outputs": [
    {
     "data": {
      "text/plain": [
       "<Axes: xlabel='release_year'>"
      ]
     },
     "execution_count": 200,
     "metadata": {},
     "output_type": "execute_result"
    },
    {
     "data": {
      "image/png": "[encoded data removed]",
      "text/plain": [
       "<Figure size 1000x400 with 1 Axes>"
      ]
     },
     "metadata": {},
     "output_type": "display_data"
    }
   ],
   "source": [
    "combined_df['release_year'] = pd.to_datetime(combined_df['release_date_final'], format='mixed').dt.year\n",
    "movies_by_year = combined_df.groupby('release_year')['movie_name'].count()\n",
    "movies_by_year.plot(kind='line', figsize=(10, 4))"
   ]
  },
  {
   "cell_type": "markdown",
   "metadata": {},
   "source": [
    "We see a interesting trend with a rapid increase in movie release starting roughly between 1990 and 2000."
   ]
  },
  {
   "cell_type": "markdown",
   "metadata": {},
   "source": [
    "### All-time evolution by genre"
   ]
  },
  {
   "cell_type": "code",
   "execution_count": 202,
   "metadata": {},
   "outputs": [],
   "source": [
    "combined_df['genres_all'] = combined_df['genres'] + combined_df['movie_genres']\n",
    "combined_df['genres_all'] =combined_df['genres_all'].apply(lambda x: list(set(x)) if x is not np.nan else [])\n",
    "combined_df.drop(columns=['genres', 'movie_genres'], inplace=True)"
   ]
  },
  {
   "cell_type": "code",
   "execution_count": 245,
   "metadata": {},
   "outputs": [
    {
     "data": {
      "text/plain": [
       "['Absurdism',\n",
       " 'Acid western',\n",
       " 'Action',\n",
       " 'Action Comedy',\n",
       " 'Action Thrillers',\n",
       " 'Action/Adventure',\n",
       " 'Addiction Drama',\n",
       " 'Adult',\n",
       " 'Adventure',\n",
       " 'Adventure Comedy',\n",
       " 'Airplanes and airports',\n",
       " 'Albino bias',\n",
       " 'Alien Film',\n",
       " 'Alien invasion',\n",
       " 'Americana',\n",
       " 'Animal Picture',\n",
       " 'Animals',\n",
       " 'Animated Musical',\n",
       " 'Animated cartoon',\n",
       " 'Animation',\n",
       " 'Anime',\n",
       " 'Anthology',\n",
       " 'Anthropology',\n",
       " 'Anti-war',\n",
       " 'Anti-war film',\n",
       " 'Apocalyptic and post-apocalyptic fiction',\n",
       " 'Archaeology',\n",
       " 'Archives and records',\n",
       " 'Art film',\n",
       " 'Auto racing',\n",
       " 'Avant-garde',\n",
       " 'B-Western',\n",
       " 'B-movie',\n",
       " 'Backstage Musical',\n",
       " 'Baseball',\n",
       " 'Beach Film',\n",
       " 'Beach Party film',\n",
       " 'Bengali Cinema',\n",
       " 'Biker Film',\n",
       " 'Biographical film',\n",
       " 'Biography',\n",
       " 'Biopic [feature]',\n",
       " 'Black comedy',\n",
       " 'Black-and-white',\n",
       " 'Blaxploitation',\n",
       " 'Bloopers & Candid Camera',\n",
       " 'Bollywood',\n",
       " 'Boxing',\n",
       " 'Breakdance',\n",
       " 'British Empire Film',\n",
       " 'British New Wave',\n",
       " 'Bruceploitation',\n",
       " 'Buddy Picture',\n",
       " 'Buddy cop',\n",
       " 'Buddy film',\n",
       " 'Business',\n",
       " 'Camp',\n",
       " 'Caper story',\n",
       " 'Cavalry Film',\n",
       " 'Chase Movie',\n",
       " 'Chick flick',\n",
       " 'Childhood Drama',\n",
       " \"Children's\",\n",
       " \"Children's Entertainment\",\n",
       " \"Children's Fantasy\",\n",
       " \"Children's Issues\",\n",
       " \"Children's/Family\",\n",
       " 'Chinese Movies',\n",
       " 'Christian film',\n",
       " 'Christmas movie',\n",
       " 'Clay animation',\n",
       " 'Cold War',\n",
       " 'Combat Films',\n",
       " 'Comdedy',\n",
       " 'Comedy',\n",
       " 'Comedy Thriller',\n",
       " 'Comedy Western',\n",
       " 'Comedy film',\n",
       " 'Comedy horror',\n",
       " 'Comedy of Errors',\n",
       " 'Comedy of manners',\n",
       " 'Comedy-drama',\n",
       " 'Coming of age',\n",
       " 'Coming-of-age film',\n",
       " 'Computer Animation',\n",
       " 'Computers',\n",
       " 'Concert film',\n",
       " 'Conspiracy fiction',\n",
       " 'Costume Adventure',\n",
       " 'Costume Horror',\n",
       " 'Costume drama',\n",
       " 'Courtroom Comedy',\n",
       " 'Courtroom Drama',\n",
       " 'Creature Film',\n",
       " 'Crime',\n",
       " 'Crime Comedy',\n",
       " 'Crime Drama',\n",
       " 'Crime Fiction',\n",
       " 'Crime Thriller',\n",
       " 'Cult',\n",
       " 'Culture & Society',\n",
       " 'Cyberpunk',\n",
       " 'Czechoslovak New Wave',\n",
       " 'Dance',\n",
       " 'Demonic child',\n",
       " 'Detective',\n",
       " 'Detective fiction',\n",
       " 'Disaster',\n",
       " 'Docudrama',\n",
       " 'Documentary',\n",
       " 'Dogme 95',\n",
       " 'Domestic Comedy',\n",
       " 'Doomsday film',\n",
       " 'Drama',\n",
       " 'Dystopia',\n",
       " 'Ealing Comedies',\n",
       " 'Early Black Cinema',\n",
       " 'Education',\n",
       " 'Educational',\n",
       " 'Ensemble Film',\n",
       " 'Environmental Science',\n",
       " 'Epic',\n",
       " 'Epic Western',\n",
       " 'Erotic Drama',\n",
       " 'Erotic thriller',\n",
       " 'Erotica',\n",
       " 'Escape Film',\n",
       " 'Essay Film',\n",
       " 'Existentialism',\n",
       " 'Experimental film',\n",
       " 'Exploitation',\n",
       " 'Expressionism',\n",
       " 'Extreme Sports',\n",
       " 'Fairy tale',\n",
       " 'Family',\n",
       " 'Family & Personal Relationships',\n",
       " 'Family Drama',\n",
       " 'Family Film',\n",
       " 'Family-Oriented Adventure',\n",
       " 'Fan film',\n",
       " 'Fantasy',\n",
       " 'Fantasy Adventure',\n",
       " 'Fantasy Comedy',\n",
       " 'Fantasy Drama',\n",
       " 'Feature film',\n",
       " 'Female buddy film',\n",
       " 'Feminist Film',\n",
       " 'Fictional film',\n",
       " 'Filipino',\n",
       " 'Filipino Movies',\n",
       " 'Film',\n",
       " 'Film & Television History',\n",
       " 'Film adaptation',\n",
       " 'Film noir',\n",
       " 'Film à clef',\n",
       " 'Film-Opera',\n",
       " 'Filmed Play',\n",
       " 'Finance & Investing',\n",
       " 'Foreign legion',\n",
       " 'Future noir',\n",
       " 'Gangster Film',\n",
       " 'Gay',\n",
       " 'Gay Interest',\n",
       " 'Gay Themed',\n",
       " 'Gay pornography',\n",
       " 'Gender Issues',\n",
       " 'Giallo',\n",
       " 'Glamorized Spy Film',\n",
       " 'Goat gland',\n",
       " 'Gothic Film',\n",
       " 'Graphic & Applied Arts',\n",
       " 'Gross out',\n",
       " 'Gross-out film',\n",
       " 'Gulf War',\n",
       " 'Hagiography',\n",
       " 'Hardcore pornography',\n",
       " 'Haunted House Film',\n",
       " 'Health & Fitness',\n",
       " 'Heaven-Can-Wait Fantasies',\n",
       " 'Heavenly Comedy',\n",
       " 'Heist',\n",
       " 'Hip hop movies',\n",
       " 'Historical Documentaries',\n",
       " 'Historical Epic',\n",
       " 'Historical drama',\n",
       " 'Historical fiction',\n",
       " 'History',\n",
       " 'Holiday Film',\n",
       " 'Homoeroticism',\n",
       " 'Horror',\n",
       " 'Horror Comedy',\n",
       " 'Horse racing',\n",
       " 'Humour',\n",
       " 'Hybrid Western',\n",
       " 'Illnesses & Disabilities',\n",
       " 'Indian Western',\n",
       " 'Indie',\n",
       " 'Inspirational Drama',\n",
       " 'Instrumental Music',\n",
       " 'Interpersonal Relationships',\n",
       " 'Inventions & Innovations',\n",
       " 'Japanese Movies',\n",
       " 'Journalism',\n",
       " 'Jukebox musical',\n",
       " 'Jungle Film',\n",
       " 'Juvenile Delinquency Film',\n",
       " 'Kafkaesque',\n",
       " 'Kitchen sink realism',\n",
       " 'LGBT',\n",
       " 'Language & Literature',\n",
       " 'Latino',\n",
       " 'Law & Crime',\n",
       " 'Legal drama',\n",
       " 'Libraries and librarians',\n",
       " 'Live action',\n",
       " 'Malayalam Cinema',\n",
       " 'Marriage Drama',\n",
       " 'Martial Arts Film',\n",
       " 'Master Criminal Films',\n",
       " 'Media Satire',\n",
       " 'Media Studies',\n",
       " 'Medical fiction',\n",
       " 'Melodrama',\n",
       " 'Mockumentary',\n",
       " 'Mondo film',\n",
       " 'Monster',\n",
       " 'Monster movie',\n",
       " 'Movie serial',\n",
       " 'Movies About Gladiators',\n",
       " 'Mumblecore',\n",
       " 'Music',\n",
       " 'Musical',\n",
       " 'Musical Drama',\n",
       " 'Musical comedy',\n",
       " 'Mystery',\n",
       " 'Mythological Fantasy',\n",
       " 'Natural disaster',\n",
       " 'Natural horror films',\n",
       " 'Nature',\n",
       " 'Neo-noir',\n",
       " 'Neorealism',\n",
       " 'New Hollywood',\n",
       " 'New Queer Cinema',\n",
       " 'News',\n",
       " 'Ninja movie',\n",
       " 'Northern',\n",
       " 'Nuclear warfare',\n",
       " 'Operetta',\n",
       " 'Outlaw',\n",
       " 'Outlaw biker film',\n",
       " 'Parkour in popular culture',\n",
       " 'Parody',\n",
       " 'Patriotic film',\n",
       " 'Period Horror',\n",
       " 'Period piece',\n",
       " 'Pinku eiga',\n",
       " 'Plague',\n",
       " 'Point of view shot',\n",
       " 'Political Documetary',\n",
       " 'Political cinema',\n",
       " 'Political drama',\n",
       " 'Political satire',\n",
       " 'Political thriller',\n",
       " 'Pornographic movie',\n",
       " 'Pornography',\n",
       " 'Pre-Code',\n",
       " 'Prison',\n",
       " 'Prison escape',\n",
       " 'Prison film',\n",
       " 'Private military company',\n",
       " 'Propaganda film',\n",
       " 'Psycho-biddy',\n",
       " 'Psychological horror',\n",
       " 'Psychological thriller',\n",
       " 'Punk rock',\n",
       " 'Race movie',\n",
       " 'Reboot',\n",
       " 'Religious Film',\n",
       " 'Remake',\n",
       " 'Revisionist Fairy Tale',\n",
       " 'Revisionist Western',\n",
       " 'Road movie',\n",
       " 'Road-Horror',\n",
       " 'Roadshow theatrical release',\n",
       " 'Roadshow/Carny',\n",
       " 'Rockumentary',\n",
       " 'Romance',\n",
       " 'Romance Film',\n",
       " 'Romantic comedy',\n",
       " 'Romantic drama',\n",
       " 'Romantic fantasy',\n",
       " 'Romantic thriller',\n",
       " 'Samurai cinema',\n",
       " 'Satire',\n",
       " 'School story',\n",
       " 'Sci Fi Pictures original films',\n",
       " 'Sci-Fi Adventure',\n",
       " 'Sci-Fi Horror',\n",
       " 'Sci-Fi Thriller',\n",
       " 'Science Fiction',\n",
       " 'Science fiction Western',\n",
       " 'Screwball comedy',\n",
       " 'Sex comedy',\n",
       " 'Sexploitation',\n",
       " 'Short Film',\n",
       " 'Silent film',\n",
       " 'Silhouette animation',\n",
       " 'Singing cowboy',\n",
       " 'Slapstick',\n",
       " 'Slasher',\n",
       " 'Slice of life story',\n",
       " 'Social issues',\n",
       " 'Social problem film',\n",
       " 'Softcore Porn',\n",
       " 'Space opera',\n",
       " 'Space western',\n",
       " 'Spaghetti Western',\n",
       " 'Splatter film',\n",
       " 'Sponsored film',\n",
       " 'Sports',\n",
       " 'Spy',\n",
       " 'Stand-up comedy',\n",
       " 'Star vehicle',\n",
       " 'Statutory rape',\n",
       " 'Steampunk',\n",
       " 'Stoner film',\n",
       " 'Stop motion',\n",
       " 'Superhero',\n",
       " 'Superhero movie',\n",
       " 'Supermarionation',\n",
       " 'Supernatural',\n",
       " 'Surrealism',\n",
       " 'Suspense',\n",
       " 'Swashbuckler films',\n",
       " 'Sword and Sandal',\n",
       " 'Sword and sorcery',\n",
       " 'Sword and sorcery films',\n",
       " 'TV Movie',\n",
       " 'Tamil cinema',\n",
       " 'Teen',\n",
       " 'Television movie',\n",
       " 'The Netherlands in World War II',\n",
       " 'Therimin music',\n",
       " 'Thriller',\n",
       " 'Time travel',\n",
       " 'Tokusatsu',\n",
       " 'Tollywood',\n",
       " 'Tragedy',\n",
       " 'Tragicomedy',\n",
       " 'Travel',\n",
       " 'Vampire movies',\n",
       " 'War',\n",
       " 'War effort',\n",
       " 'War film',\n",
       " 'Werewolf fiction',\n",
       " 'Western',\n",
       " 'Whodunit',\n",
       " 'Women in prison films',\n",
       " 'Workplace Comedy',\n",
       " 'World History',\n",
       " 'World cinema',\n",
       " 'Wuxia',\n",
       " 'Z movie',\n",
       " 'Zombie Film']"
      ]
     },
     "execution_count": 245,
     "metadata": {},
     "output_type": "execute_result"
    }
   ],
   "source": [
    "all_unique_genres = list(set(chain(*combined_df['genres_all'])))\n",
    "all_unique_genres.sort()\n",
    "all_unique_genres"
   ]
  },
  {
   "cell_type": "code",
   "execution_count": 255,
   "metadata": {},
   "outputs": [
    {
     "data": {
      "text/html": [
       "<div>\n",
       "<style scoped>\n",
       "    .dataframe tbody tr th:only-of-type {\n",
       "        vertical-align: middle;\n",
       "    }\n",
       "\n",
       "    .dataframe tbody tr th {\n",
       "        vertical-align: top;\n",
       "    }\n",
       "\n",
       "    .dataframe thead th {\n",
       "        text-align: right;\n",
       "    }\n",
       "</style>\n",
       "<table border=\"1\" class=\"dataframe\">\n",
       "  <thead>\n",
       "    <tr style=\"text-align: right;\">\n",
       "      <th></th>\n",
       "      <th>genres_all</th>\n",
       "      <th>Drama</th>\n",
       "      <th>Science Fiction</th>\n",
       "      <th>Horror</th>\n",
       "      <th>Thriller</th>\n",
       "      <th>Crime</th>\n",
       "      <th>Adventure</th>\n",
       "      <th>Action</th>\n",
       "      <th>Musical</th>\n",
       "      <th>Comedy</th>\n",
       "      <th>Romance</th>\n",
       "      <th>Fantasy</th>\n",
       "      <th>Animation</th>\n",
       "      <th>Western</th>\n",
       "      <th>Apocalyptic and post-apocalyptic fiction</th>\n",
       "      <th>Family</th>\n",
       "      <th>Mystery</th>\n",
       "      <th>History</th>\n",
       "      <th>Documentary</th>\n",
       "      <th>Black-and-white</th>\n",
       "      <th>War</th>\n",
       "    </tr>\n",
       "    <tr>\n",
       "      <th>release_year</th>\n",
       "      <th></th>\n",
       "      <th></th>\n",
       "      <th></th>\n",
       "      <th></th>\n",
       "      <th></th>\n",
       "      <th></th>\n",
       "      <th></th>\n",
       "      <th></th>\n",
       "      <th></th>\n",
       "      <th></th>\n",
       "      <th></th>\n",
       "      <th></th>\n",
       "      <th></th>\n",
       "      <th></th>\n",
       "      <th></th>\n",
       "      <th></th>\n",
       "      <th></th>\n",
       "      <th></th>\n",
       "      <th></th>\n",
       "      <th></th>\n",
       "      <th></th>\n",
       "    </tr>\n",
       "  </thead>\n",
       "  <tbody>\n",
       "    <tr>\n",
       "      <th>1878.0</th>\n",
       "      <td>[Documentary, Silent film, Short Film]</td>\n",
       "      <td>0</td>\n",
       "      <td>0</td>\n",
       "      <td>0</td>\n",
       "      <td>0</td>\n",
       "      <td>0</td>\n",
       "      <td>0</td>\n",
       "      <td>0</td>\n",
       "      <td>0</td>\n",
       "      <td>0</td>\n",
       "      <td>0</td>\n",
       "      <td>0</td>\n",
       "      <td>0</td>\n",
       "      <td>0</td>\n",
       "      <td>0</td>\n",
       "      <td>0</td>\n",
       "      <td>0</td>\n",
       "      <td>0</td>\n",
       "      <td>1</td>\n",
       "      <td>0</td>\n",
       "      <td>0</td>\n",
       "    </tr>\n",
       "    <tr>\n",
       "      <th>1888.0</th>\n",
       "      <td>[Silent film, Black-and-white, Documentary, Sh...</td>\n",
       "      <td>0</td>\n",
       "      <td>0</td>\n",
       "      <td>0</td>\n",
       "      <td>0</td>\n",
       "      <td>0</td>\n",
       "      <td>0</td>\n",
       "      <td>0</td>\n",
       "      <td>0</td>\n",
       "      <td>0</td>\n",
       "      <td>0</td>\n",
       "      <td>0</td>\n",
       "      <td>0</td>\n",
       "      <td>0</td>\n",
       "      <td>0</td>\n",
       "      <td>0</td>\n",
       "      <td>0</td>\n",
       "      <td>0</td>\n",
       "      <td>1</td>\n",
       "      <td>1</td>\n",
       "      <td>0</td>\n",
       "    </tr>\n",
       "    <tr>\n",
       "      <th>1889.0</th>\n",
       "      <td>[Silent film, Black-and-white, Documentary, Sh...</td>\n",
       "      <td>0</td>\n",
       "      <td>0</td>\n",
       "      <td>0</td>\n",
       "      <td>0</td>\n",
       "      <td>0</td>\n",
       "      <td>0</td>\n",
       "      <td>0</td>\n",
       "      <td>0</td>\n",
       "      <td>0</td>\n",
       "      <td>0</td>\n",
       "      <td>0</td>\n",
       "      <td>0</td>\n",
       "      <td>0</td>\n",
       "      <td>0</td>\n",
       "      <td>0</td>\n",
       "      <td>0</td>\n",
       "      <td>0</td>\n",
       "      <td>1</td>\n",
       "      <td>1</td>\n",
       "      <td>0</td>\n",
       "    </tr>\n",
       "  </tbody>\n",
       "</table>\n",
       "</div>"
      ],
      "text/plain": [
       "                                                     genres_all  Drama  \\\n",
       "release_year                                                             \n",
       "1878.0                   [Documentary, Silent film, Short Film]      0   \n",
       "1888.0        [Silent film, Black-and-white, Documentary, Sh...      0   \n",
       "1889.0        [Silent film, Black-and-white, Documentary, Sh...      0   \n",
       "\n",
       "              Science Fiction  Horror  Thriller  Crime  Adventure  Action  \\\n",
       "release_year                                                                \n",
       "1878.0                      0       0         0      0          0       0   \n",
       "1888.0                      0       0         0      0          0       0   \n",
       "1889.0                      0       0         0      0          0       0   \n",
       "\n",
       "              Musical  Comedy  Romance  Fantasy  Animation  Western  \\\n",
       "release_year                                                          \n",
       "1878.0              0       0        0        0          0        0   \n",
       "1888.0              0       0        0        0          0        0   \n",
       "1889.0              0       0        0        0          0        0   \n",
       "\n",
       "              Apocalyptic and post-apocalyptic fiction  Family  Mystery  \\\n",
       "release_year                                                              \n",
       "1878.0                                               0       0        0   \n",
       "1888.0                                               0       0        0   \n",
       "1889.0                                               0       0        0   \n",
       "\n",
       "              History  Documentary  Black-and-white  War  \n",
       "release_year                                              \n",
       "1878.0              0            1                0    0  \n",
       "1888.0              0            1                1    0  \n",
       "1889.0              0            1                1    0  "
      ]
     },
     "execution_count": 255,
     "metadata": {},
     "output_type": "execute_result"
    }
   ],
   "source": [
    "combined_by_genre_year = combined_df.groupby('release_year')\n",
    "aggregate = combined_by_genre_year.agg({'genres_all': lambda x: list(chain(*x))})\n",
    "\n",
    "genre_selection = [\n",
    "  \t'Drama',\n",
    "    'Science Fiction', \n",
    "    'Horror', \n",
    "    'Thriller', \n",
    "    'Crime', \n",
    "    'Adventure', \n",
    "    'Action', \n",
    "    'Musical', \n",
    "    'Comedy', \n",
    "    'Romance',\n",
    "    'Fantasy',\n",
    "\t\t'Animation',\n",
    "\t\t'Western',\n",
    "\t\t'Apocalyptic and post-apocalyptic fiction',\n",
    "\t\t'Family',\n",
    "\t\t'Mystery',\n",
    "    'History',\n",
    "    'Documentary',\n",
    "    'Black-and-white',\n",
    "    'War',\n",
    "    ]\n",
    "for genre in genre_selection:\n",
    "\t\taggregate[genre] = aggregate['genres_all'].apply(lambda x: x.count(genre))\n",
    "aggregate.head(3)"
   ]
  },
  {
   "cell_type": "code",
   "execution_count": 256,
   "metadata": {},
   "outputs": [
    {
     "data": {
      "text/plain": [
       "<Axes: xlabel='release_year'>"
      ]
     },
     "execution_count": 256,
     "metadata": {},
     "output_type": "execute_result"
    },
    {
     "data": {
      "image/png": "[encoded data removed]",
      "text/plain": [
       "<Figure size 1500x600 with 1 Axes>"
      ]
     },
     "metadata": {},
     "output_type": "display_data"
    }
   ],
   "source": [
    "aggregate.plot(y=genre_selection, figsize=(15, 6))"
   ]
  },
  {
   "cell_type": "markdown",
   "metadata": {},
   "source": [
    "Here we see that the evolution across genres mostly follows the trend we saw earlier when plotting the number of movies released each year. This make sense, but there are some exceptions..."
   ]
  },
  {
   "cell_type": "code",
   "execution_count": null,
   "metadata": {},
   "outputs": [
    {
     "data": {
      "text/plain": [
       "<Axes: xlabel='release_year'>"
      ]
     },
     "execution_count": 254,
     "metadata": {},
     "output_type": "execute_result"
    },
    {
     "data": {
      "image/png": "[encoded data removed]",
      "text/plain": [
       "<Figure size 1000x400 with 1 Axes>"
      ]
     },
     "metadata": {},
     "output_type": "display_data"
    }
   ],
   "source": [
    "aggregate.plot(y=['Black-and-white', 'War'], figsize=(10, 4))"
   ]
  },
  {
   "cell_type": "markdown",
   "metadata": {},
   "source": [
    "In fact, when plotting 'War' movies, we see thatthere is a big peak around the 1939-1945 period corresponding to WWII but there is no obvious increase in 'War' movies thereafter.\n",
    "When plotting 'Black-and-white' movies, on the other hand, we see that, as technology advanced and color movies became more and more popular, the 'Black-and-white' genre rapidly declined after WWII."
   ]
  },
  {
   "cell_type": "markdown",
   "metadata": {},
   "source": [
    "## Exploring genre success over the years"
   ]
  },
  {
   "cell_type": "code",
   "execution_count": 258,
   "metadata": {},
   "outputs": [
    {
     "data": {
      "text/plain": [
       "<Axes: xlabel='release_year'>"
      ]
     },
     "execution_count": 258,
     "metadata": {},
     "output_type": "execute_result"
    },
    {
     "data": {
      "image/png": "[encoded data removed]",
      "text/plain": [
       "<Figure size 1000x400 with 1 Axes>"
      ]
     },
     "metadata": {},
     "output_type": "display_data"
    }
   ],
   "source": [
    "filtered_df = combined_df[combined_df['genres_all'].apply(lambda genres: 'Western' in genres)]\n",
    "filtered_df.groupby('release_year')['popularity'].sum().plot(kind='line', figsize=(10, 4))"
   ]
  },
  {
   "cell_type": "code",
   "execution_count": null,
   "metadata": {},
   "outputs": [],
   "source": []
  }
 ],
 "metadata": {
  "kernelspec": {
   "display_name": "ADA2024",
   "language": "python",
   "name": "python3"
  },
  "language_info": {
   "codemirror_mode": {
    "name": "ipython",
    "version": 3
   },
   "file_extension": ".py",
   "mimetype": "text/x-python",
   "name": "python",
   "nbconvert_exporter": "python",
   "pygments_lexer": "ipython3",
   "version": "3.12.6"
  }
 },
 "nbformat": 4,
 "nbformat_minor": 2
}
